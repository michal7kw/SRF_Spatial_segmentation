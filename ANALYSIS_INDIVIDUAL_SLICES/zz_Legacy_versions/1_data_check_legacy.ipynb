{
 "cells": [
  {
   "cell_type": "markdown",
   "id": "2a240924",
   "metadata": {},
   "source": [
    "# MERSCOPE Region R1 Analysis"
   ]
  },
  {
   "cell_type": "markdown",
   "id": "b93a58bf",
   "metadata": {},
   "source": [
    "This notebook performs an analysis of MERSCOPE data for region R1, focusing on data loading, exploratory data analysis (EDA), and visualization."
   ]
  },
  {
   "cell_type": "code",
   "execution_count": 141,
   "id": "40966467",
   "metadata": {},
   "outputs": [],
   "source": [
    "# Import necessary libraries\n",
    "import scanpy as sc\n",
    "import anndata as ad\n",
    "import pandas as pd\n",
    "import geopandas as gpd # For potential .parquet file with geometries\n",
    "import matplotlib.pyplot as plt\n",
    "import matplotlib.image as mpimg # For displaying images\n",
    "import seaborn as sns\n",
    "import numpy as np # For calculations if needed\n",
    "import os\n",
    "import squidpy\n",
    "import warnings\n",
    "\n",
    "# Suppress FutureWarning messages\n",
    "warnings.filterwarnings('ignore', category=FutureWarning)"
   ]
  },
  {
   "cell_type": "code",
   "execution_count": 143,
   "id": "9a5705ff",
   "metadata": {},
   "outputs": [],
   "source": [
    "os.chdir(\"/beegfs/scratch/ric.sessa/kubacki.michal/SRF_Linda/SRF_Spatial_segmentation\")\n",
    "\n",
    "# Define file paths\n",
    "base_path = 'DATA/p0-p7/R1'\n",
    "h5ad_file = os.path.join(base_path, 'data.h5ad')"
   ]
  },
  {
   "cell_type": "markdown",
   "id": "5c0170a1",
   "metadata": {},
   "source": [
    "## 1. Data Loading\n",
    "\n",
    "We will prioritize loading the AnnData file (`.h5ad`) as it should contain the most comprehensive data. If needed, we will supplement with other files."
   ]
  },
  {
   "cell_type": "code",
   "execution_count": 145,
   "id": "d63f94f5",
   "metadata": {},
   "outputs": [
    {
     "name": "stdout",
     "output_type": "stream",
     "text": [
      "AnnData file not found: DATA/p0-p7/R1/data.h5ad. Will attempt to load individual files.\n"
     ]
    }
   ],
   "source": [
    "cell_by_gene_file = os.path.join(base_path, 'cell_by_gene.csv')\n",
    "cell_metadata_file = os.path.join(base_path, 'cell_metadata.csv')\n",
    "differentially_expressed_genes_file = os.path.join(base_path, 'differentially_expressed_genes.csv')\n",
    "# cell_categories_file = os.path.join(base_path, 'cell_categories.csv')\n",
    "# cell_numeric_categories_file = os.path.join(base_path, 'cell_numeric_categories.csv')\n",
    "cell_boundaries_file = os.path.join(base_path, 'cell_boundaries.parquet')\n",
    "detected_transcripts_file = os.path.join(base_path, 'detected_transcripts.parquet')\n",
    "\n",
    "summary_image_file = os.path.join(base_path, 'summary.png')\n",
    "\n",
    "# Attempt to load the .h5ad file\n",
    "adata = None\n",
    "try:\n",
    "    adata = sc.read_h5ad(h5ad_file)\n",
    "    print(f\"Successfully loaded AnnData file: {h5ad_file}\")\n",
    "    print(adata)\n",
    "except FileNotFoundError:\n",
    "    print(f\"AnnData file not found: {h5ad_file}. Will attempt to load individual files.\")\n",
    "except Exception as e:\n",
    "    print(f\"Error loading AnnData file {h5ad_file}: {e}. Will attempt to load individual files.\")"
   ]
  },
  {
   "cell_type": "code",
   "execution_count": 147,
   "id": "95ec0ed1",
   "metadata": {},
   "outputs": [
    {
     "ename": "AttributeError",
     "evalue": "'NoneType' object has no attribute 'obs'",
     "output_type": "error",
     "traceback": [
      "\u001b[0;31m---------------------------------------------------------------------------\u001b[0m",
      "\u001b[0;31mAttributeError\u001b[0m                            Traceback (most recent call last)",
      "Cell \u001b[0;32mIn[147], line 1\u001b[0m\n\u001b[0;32m----> 1\u001b[0m \u001b[38;5;28mprint\u001b[39m(\u001b[43madata\u001b[49m\u001b[38;5;241;43m.\u001b[39;49m\u001b[43mobs\u001b[49m\u001b[38;5;241m.\u001b[39mindex[:\u001b[38;5;241m5\u001b[39m])\n\u001b[1;32m      2\u001b[0m \u001b[38;5;28mprint\u001b[39m(adata\u001b[38;5;241m.\u001b[39mobs\u001b[38;5;241m.\u001b[39mvolume\u001b[38;5;241m.\u001b[39mhead())\n\u001b[1;32m      3\u001b[0m \u001b[38;5;28mprint\u001b[39m(adata\u001b[38;5;241m.\u001b[39mobs\u001b[38;5;241m.\u001b[39mcenter_x\u001b[38;5;241m.\u001b[39mhead())\n",
      "\u001b[0;31mAttributeError\u001b[0m: 'NoneType' object has no attribute 'obs'"
     ]
    }
   ],
   "source": [
    "print(adata.obs.index[:5])\n",
    "print(adata.obs.volume.head())\n",
    "print(adata.obs.center_x.head())\n",
    "print(adata.obs.leiden.head())"
   ]
  },
  {
   "cell_type": "markdown",
   "id": "331bee47",
   "metadata": {},
   "source": [
    "# Load supplementary files if .h5ad loading failed"
   ]
  },
  {
   "cell_type": "code",
   "execution_count": null,
   "id": "a814590b",
   "metadata": {},
   "outputs": [],
   "source": [
    "cell_categories_df = None\n",
    "cell_boundaries_gdf = None\n",
    "\n",
    "if adata is None:\n",
    "    print(\"\\nAttempting to load data from individual CSV files...\")\n",
    "    try:\n",
    "        # Load gene expression data\n",
    "        counts_df = pd.read_csv(cell_by_gene_file, index_col=0) # Assuming first column is cell ID\n",
    "        print(f\"Loaded {cell_by_gene_file}: {counts_df.shape[0]} cells, {counts_df.shape[1]} genes\")\n",
    "        \n",
    "        # Load cell metadata\n",
    "        metadata_df = pd.read_csv(cell_metadata_file, index_col=0) # Assuming first column is cell ID\n",
    "        print(f\"Loaded {cell_metadata_file}: {metadata_df.shape[0]} cells, {metadata_df.shape[1]} metadata columns\")\n",
    "        \n",
    "        # Align indices (important!)\n",
    "        common_cells = counts_df.index.intersection(metadata_df.index)\n",
    "        counts_df = counts_df.loc[common_cells]\n",
    "        metadata_df = metadata_df.loc[common_cells]\n",
    "        print(f\"Found {len(common_cells)} common cells between counts and metadata.\")\n",
    "\n",
    "        if len(common_cells) == 0:\n",
    "            raise ValueError(\"No common cells found between cell_by_gene.csv and cell_metadata.csv. Cannot create AnnData object.\")\n",
    "\n",
    "        # Create AnnData object\n",
    "        adata = ad.AnnData(X=counts_df.values, obs=metadata_df, var=pd.DataFrame(index=counts_df.columns))\n",
    "        adata.X = adata.X.astype('float32') # Ensure X is float for scanpy operations\n",
    "        print(\"Successfully created AnnData object from CSV files.\")\n",
    "        print(adata)\n",
    "        \n",
    "    except FileNotFoundError as e:\n",
    "        print(f\"Error: A required CSV file was not found: {e}. Cannot proceed with manual AnnData creation.\")\n",
    "        adata = None # Ensure adata is None if creation fails\n",
    "    except ValueError as e:\n",
    "        print(f\"Error creating AnnData object: {e}\")\n",
    "        adata = None\n",
    "    except Exception as e:\n",
    "        print(f\"An unexpected error occurred while loading CSV files: {e}\")\n",
    "        adata = None"
   ]
  },
  {
   "cell_type": "markdown",
   "id": "239a9dee",
   "metadata": {},
   "source": [
    "# Load additional data"
   ]
  },
  {
   "cell_type": "markdown",
   "id": "bf888b4f",
   "metadata": {},
   "source": [
    "## cell boundaries"
   ]
  },
  {
   "cell_type": "code",
   "execution_count": null,
   "id": "13dc47d2",
   "metadata": {},
   "outputs": [],
   "source": [
    "# cell_boundaries_gdf = gpd.read_parquet(cell_boundaries_file)\n",
    "# print(f\"Loaded {cell_boundaries_file}. Shape: {cell_boundaries_gdf.shape}\")"
   ]
  },
  {
   "cell_type": "code",
   "execution_count": null,
   "id": "526d41a6",
   "metadata": {},
   "outputs": [],
   "source": [
    "# cell_boundaries_gdf.head()"
   ]
  },
  {
   "cell_type": "code",
   "execution_count": null,
   "id": "85945878",
   "metadata": {},
   "outputs": [],
   "source": [
    "# cell_boundaries_gdf = cell_boundaries_gdf.set_index('EntityID', drop=False)\n",
    "# cell_boundaries_gdf.head()"
   ]
  },
  {
   "cell_type": "code",
   "execution_count": null,
   "id": "4311d036",
   "metadata": {},
   "outputs": [],
   "source": [
    "# adata.obs.index = adata.obs.index.astype(str)\n",
    "# cell_boundaries_gdf.index = cell_boundaries_gdf.index.astype(str)\n",
    "\n",
    "# print(adata.obs.index[:5])\n",
    "# print(cell_boundaries_gdf.index[:5])"
   ]
  },
  {
   "cell_type": "code",
   "execution_count": null,
   "id": "e4a3e84d",
   "metadata": {},
   "outputs": [],
   "source": [
    "# common_cells_boundaries = adata.obs.index.intersection(cell_boundaries_gdf.index)\n",
    "# common_cells_boundaries[:5]"
   ]
  },
  {
   "cell_type": "code",
   "execution_count": null,
   "id": "630d679e",
   "metadata": {
    "lines_to_next_cell": 2
   },
   "outputs": [],
   "source": [
    "# adata.uns['cell_boundaries_gdf'] = cell_boundaries_gdf.loc[common_cells_boundaries]"
   ]
  },
  {
   "cell_type": "markdown",
   "id": "b5f5d875",
   "metadata": {},
   "source": [
    "## differentially expressed genes"
   ]
  },
  {
   "cell_type": "code",
   "execution_count": null,
   "id": "f9c26048",
   "metadata": {},
   "outputs": [],
   "source": [
    "# degs_df = pd.read_csv(differentially_expressed_genes_file, index_col=0) # Assuming first column is cell ID"
   ]
  },
  {
   "cell_type": "code",
   "execution_count": null,
   "id": "7c13c75e",
   "metadata": {},
   "outputs": [],
   "source": [
    "# degs_df.head()"
   ]
  },
  {
   "cell_type": "markdown",
   "id": "4ac97aa7",
   "metadata": {},
   "source": [
    "## detected transcripts"
   ]
  },
  {
   "cell_type": "code",
   "execution_count": null,
   "id": "e9548c02",
   "metadata": {},
   "outputs": [],
   "source": [
    "# det_trans_df = pd.read_parquet(detected_transcripts_file)"
   ]
  },
  {
   "cell_type": "code",
   "execution_count": null,
   "id": "d898a2ab",
   "metadata": {},
   "outputs": [],
   "source": [
    "# det_trans_df.head()"
   ]
  },
  {
   "cell_type": "markdown",
   "id": "6a1e4355",
   "metadata": {},
   "source": [
    "## 2. Exploratory Data Analysis (EDA)\n",
    "\n",
    "Basic statistics and distributions of the data."
   ]
  },
  {
   "cell_type": "code",
   "execution_count": null,
   "id": "baff6913",
   "metadata": {},
   "outputs": [],
   "source": [
    "print(f\"Number of cells: {adata.n_obs}\")\n",
    "print(f\"Number of genes: {adata.n_vars}\")"
   ]
  },
  {
   "cell_type": "code",
   "execution_count": null,
   "id": "1f34fffb",
   "metadata": {},
   "outputs": [],
   "source": [
    "print(\"Calculating QC metrics (total_counts, n_genes_by_counts)...\")\n",
    "sc.pp.calculate_qc_metrics(adata, inplace=True)"
   ]
  },
  {
   "cell_type": "code",
   "execution_count": null,
   "id": "8675d5eb",
   "metadata": {},
   "outputs": [],
   "source": [
    "fig, axes = plt.subplots(1, 2, figsize=(16, 5))\n",
    "\n",
    "# Plot for total_counts\n",
    "sns.histplot(adata.obs['total_counts'], bins=50, kde=False, ax=axes[0])\n",
    "axes[0].set_xlabel(\"Total transcripts per cell\")\n",
    "axes[0].set_ylabel(\"Number of cells\")\n",
    "axes[0].set_title(\"Distribution of Total Transcripts per Cell\")\n",
    "\n",
    "# Plot for n_genes_by_counts\n",
    "sns.histplot(adata.obs['n_genes_by_counts'], bins=50, kde=False, ax=axes[1])\n",
    "axes[1].set_xlabel(\"Number of genes detected per cell\")\n",
    "axes[1].set_ylabel(\"Number of cells\")\n",
    "axes[1].set_title(\"Distribution of Genes Detected per Cell\")\n",
    "\n",
    "plt.tight_layout()\n",
    "plt.show()"
   ]
  },
  {
   "cell_type": "code",
   "execution_count": null,
   "id": "33f5d05b",
   "metadata": {
    "lines_to_next_cell": 2
   },
   "outputs": [],
   "source": [
    "coll_to_summary = 'leiden'\n",
    "\n",
    "# print(f\"\\n--- {coll_to_summary} ---\")\n",
    "# print(adata.obs[coll_to_summary].value_counts(dropna=False))\n",
    "\n",
    "if adata.obs[coll_to_summary].nunique() < 30 and adata.obs[coll_to_summary].nunique() > 1:\n",
    "    plt.figure(figsize=(8, max(4, adata.obs[coll_to_summary].nunique() * 0.3)))\n",
    "    sns.countplot(y=adata.obs[coll_to_summary], order = adata.obs[coll_to_summary].value_counts(dropna=False).index)\n",
    "    plt.title(f\"Cell Counts by {coll_to_summary}\")\n",
    "    plt.xlabel(\"Number of Cells\")\n",
    "    plt.ylabel(coll_to_summary)\n",
    "    plt.tight_layout()\n",
    "    plt.show()"
   ]
  },
  {
   "cell_type": "markdown",
   "id": "fd1489f1",
   "metadata": {},
   "source": [
    "## 3. Visualization"
   ]
  },
  {
   "cell_type": "code",
   "execution_count": null,
   "id": "3ac0e9dd",
   "metadata": {},
   "outputs": [],
   "source": [
    "img = mpimg.imread(summary_image_file)\n",
    "plt.figure(figsize=(10,10))\n",
    "plt.imshow(img)\n",
    "plt.axis('off') # Turn off axis numbers and ticks\n",
    "plt.title(\"Experiment Summary Image (region_R1/summary.png)\")\n",
    "plt.show()"
   ]
  },
  {
   "cell_type": "code",
   "execution_count": null,
   "id": "2944b307",
   "metadata": {},
   "outputs": [],
   "source": [
    "print(adata.obsm_keys())\n",
    "print(list(adata.obs.columns))"
   ]
  },
  {
   "cell_type": "code",
   "execution_count": null,
   "id": "a0aac924",
   "metadata": {},
   "outputs": [],
   "source": [
    "adata.obsm['spatial'] = adata.obs[['center_x', 'center_y']].to_numpy()\n",
    "spatial_coords_available = True"
   ]
  },
  {
   "cell_type": "code",
   "execution_count": null,
   "id": "b89e06ab",
   "metadata": {},
   "outputs": [],
   "source": [
    "features = ['total_counts', 'n_genes_by_counts', 'leiden']\n",
    "for color_by in features:\n",
    "    plt.figure(figsize=(10, 10))\n",
    "    sc.pl.spatial(adata, color=color_by, spot_size=30, show=False, frameon=False)\n",
    "    plt.title(f\"Spatial Plot of Cells (Colored by {color_by if color_by else 'default'})\")\n",
    "    plt.show()"
   ]
  },
  {
   "cell_type": "code",
   "execution_count": null,
   "id": "eba6ec96",
   "metadata": {},
   "outputs": [],
   "source": [
    "print(list(adata.var.columns))\n",
    "print(list(adata.uns))"
   ]
  },
  {
   "cell_type": "code",
   "execution_count": null,
   "id": "e523b200",
   "metadata": {},
   "outputs": [],
   "source": [
    "# Check the log1p metadata to understand the issue\n",
    "print(\"Checking adata.uns['log1p'] contents:\")\n",
    "if 'log1p' in adata.uns_keys():\n",
    "    print(adata.uns['log1p'])\n",
    "    print(f\"Keys in log1p: {list(adata.uns['log1p'].keys())}\")\n",
    "else:\n",
    "    print(\"No log1p key found in adata.uns\")"
   ]
  },
  {
   "cell_type": "code",
   "execution_count": null,
   "id": "3606112a",
   "metadata": {},
   "outputs": [],
   "source": [
    "# Fix the log1p metadata issue by adding the missing 'base' key or using a workaround\n",
    "if 'log1p' in adata.uns_keys() and 'base' not in adata.uns['log1p']:\n",
    "    print(\"Adding missing 'base' key to log1p metadata...\")\n",
    "    # Set base to None (natural log) which is the default for scanpy\n",
    "    adata.uns['log1p']['base'] = None\n",
    "    print(\"Fixed log1p metadata:\", adata.uns['log1p'])\n",
    "\n",
    "# Alternative approach: use flavor='cell_ranger' which doesn't require log1p metadata\n",
    "print(\"Computing highly variable genes with cell_ranger flavor to avoid log1p issues...\")\n",
    "sc.pp.highly_variable_genes(adata, min_mean=0.0125, max_mean=3, min_disp=0.5, flavor='cell_ranger')"
   ]
  },
  {
   "cell_type": "code",
   "execution_count": null,
   "id": "af74c5b4",
   "metadata": {},
   "outputs": [],
   "source": [
    "import numpy as np\n",
    "import scipy.sparse\n",
    "\n",
    "print(f\"adata.X data type: {adata.X.dtype}\")\n",
    "\n",
    "if scipy.sparse.issparse(adata.X):\n",
    "    print(adata.X[:5, :5].toarray())\n",
    "    if adata.X.nnz > 0: # nnz is number of stored_elements\n",
    "        print(f\"Min non-zero value in adata.X: {adata.X.data.min()}\")\n",
    "        print(f\"Max non-zero value in adata.X: {adata.X.data.max()}\")\n",
    "        has_nan_sparse = np.isnan(adata.X.data).any()\n",
    "        has_inf_sparse = np.isinf(adata.X.data).any()\n",
    "        print(f\"adata.X.data contains NaNs: {has_nan_sparse}\")\n",
    "        print(f\"adata.X.data contains Infs: {has_inf_sparse}\")\n",
    "\n",
    "else: # Dense array\n",
    "    print(adata.X[:5, :5])\n",
    "    print(f\"Min value in adata.X: {adata.X.min()}\")\n",
    "    print(f\"Max value in adata.X: {adata.X.max()}\")\n",
    "    has_nan_dense = np.isnan(adata.X).any()\n",
    "    has_inf_dense = np.isinf(adata.X).any()\n",
    "    print(f\"adata.X contains NaNs: {has_nan_dense}\")\n",
    "    print(f\"adata.X contains Infs: {has_inf_dense}\")"
   ]
  },
  {
   "cell_type": "code",
   "execution_count": null,
   "id": "0fe61e97",
   "metadata": {
    "lines_to_next_cell": 2
   },
   "outputs": [],
   "source": [
    "hvg_genes = adata.var_names[adata.var['highly_variable']].tolist()\n",
    "if len(hvg_genes) > 0:\n",
    "    num_genes_to_plot = min(len(hvg_genes), 3)\n",
    "    genes_to_plot = hvg_genes[:num_genes_to_plot]\n",
    "    print(f\"Plotting spatial expression for HVGs: {genes_to_plot}\")\n",
    "    sc.pl.spatial(adata, color=genes_to_plot, spot_size=30, show=True, frameon=False, ncols=num_genes_to_plot)\n",
    "else:\n",
    "    print(\"No highly variable genes found after computation.\")\n",
    "\n"
   ]
  }
 ],
 "metadata": {
  "jupytext": {
   "cell_metadata_filter": "-all",
   "main_language": "python",
   "notebook_metadata_filter": "-all"
  },
  "kernelspec": {
   "display_name": "Python 3 (ipykernel)",
   "language": "python",
   "name": "python3"
  },
  "language_info": {
   "codemirror_mode": {
    "name": "ipython",
    "version": 3
   },
   "file_extension": ".py",
   "mimetype": "text/x-python",
   "name": "python",
   "nbconvert_exporter": "python",
   "pygments_lexer": "ipython3",
   "version": "3.10.18"
  }
 },
 "nbformat": 4,
 "nbformat_minor": 5
}
