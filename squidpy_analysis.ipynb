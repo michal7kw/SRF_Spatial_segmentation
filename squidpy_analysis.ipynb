{
 "cells": [
  {
   "cell_type": "markdown",
   "id": "670572ff",
   "metadata": {},
   "source": [
    "# Squidpy analysis of Vizgen data"
   ]
  },
  {
   "cell_type": "markdown",
   "id": "6a08dca2",
   "metadata": {},
   "source": [
    "## 1. Imports"
   ]
  },
  {
   "cell_type": "code",
   "execution_count": 15,
   "id": "32d27464",
   "metadata": {},
   "outputs": [],
   "source": [
    "import numpy as np\n",
    "import pandas as pd\n",
    "from pathlib import Path\n",
    "import shutil\n",
    "import os\n",
    "from matplotlib import pyplot as plt\n",
    "import seaborn as sns\n",
    "\n",
    "import scanpy as sc\n",
    "import squidpy as sq\n",
    "import geopandas as gpd"
   ]
  },
  {
   "cell_type": "markdown",
   "id": "8d4dcc98",
   "metadata": {},
   "source": [
    "## 2. Setup"
   ]
  },
  {
   "cell_type": "code",
   "execution_count": 16,
   "id": "61fae871",
   "metadata": {
    "lines_to_next_cell": 0
   },
   "outputs": [],
   "source": [
    "# Create a directory to save the results\n",
    "os.chdir(\"/beegfs/scratch/ric.sessa/kubacki.michal/SRF_Linda/SRF_Spatial_segmentation\")\n",
    "results_dir = Path(\"./analysis_results\")\n",
    "os.makedirs(results_dir, exist_ok=True)"
   ]
  },
  {
   "cell_type": "markdown",
   "id": "80d7858c",
   "metadata": {},
   "source": [
    "## 3. Load Data\n",
    "\n",
    "We load the data using `squidpy.read.vizgen`. We provide the path to the data\n",
    "directory and specify the counts and metadata files."
   ]
  },
  {
   "cell_type": "code",
   "execution_count": 17,
   "id": "564a69e7",
   "metadata": {
    "lines_to_next_cell": 2
   },
   "outputs": [
    {
     "name": "stdout",
     "output_type": "stream",
     "text": [
      "Data loaded:\n",
      "AnnData object with n_obs × n_vars = 20167 × 960\n",
      "    obs: 'fov', 'volume', 'min_x', 'min_y', 'max_x', 'max_y', 'anisotropy', 'transcript_count', 'perimeter_area_ratio', 'solidity'\n",
      "    uns: 'spatial'\n",
      "    obsm: 'blank_genes', 'spatial'\n"
     ]
    }
   ],
   "source": [
    "data_dir = Path(\"./2task_cellpose2_p30-E165_R1_roi_analysis_parallel\")\n",
    "\n",
    "adata = sq.read.vizgen(\n",
    "    path=data_dir,\n",
    "    counts_file=\"cell_by_gene.csv\",\n",
    "    meta_file=\"cell_metadata.csv\",\n",
    ")\n",
    "print(\"Data loaded:\")\n",
    "print(adata)"
   ]
  },
  {
   "cell_type": "markdown",
   "id": "439b0ab5",
   "metadata": {},
   "source": [
    "### Get Library ID"
   ]
  },
  {
   "cell_type": "code",
   "execution_count": 18,
   "id": "cb8e774b",
   "metadata": {
    "lines_to_next_cell": 2
   },
   "outputs": [
    {
     "name": "stdout",
     "output_type": "stream",
     "text": [
      "Using library_id: library\n"
     ]
    }
   ],
   "source": [
    "# Get the library id from the anndata object\n",
    "try:\n",
    "    library_id = list(adata.uns['spatial'].keys())[0]\n",
    "    print(f\"Using library_id: {library_id}\")\n",
    "except (KeyError, IndexError):\n",
    "    print(\"Could not automatically determine library_id. Spatial plots may fail.\")\n",
    "    library_id = None"
   ]
  },
  {
   "cell_type": "markdown",
   "id": "c528fe58",
   "metadata": {},
   "source": [
    "### Load Cell Boundaries"
   ]
  },
  {
   "cell_type": "code",
   "execution_count": 21,
   "id": "d637cdca",
   "metadata": {
    "lines_to_next_cell": 2
   },
   "outputs": [
    {
     "name": "stdout",
     "output_type": "stream",
     "text": [
      "Successfully loaded cell boundaries.\n"
     ]
    }
   ],
   "source": [
    "# Load the cell boundaries and add them to the anndata object\n",
    "try:\n",
    "    segmentation_path = data_dir / \"cellpose2_mosaic_space.parquet\"\n",
    "    if segmentation_path.exists():\n",
    "        boundaries = gpd.read_parquet(segmentation_path)\n",
    "        adata.uns['spatial'][library_id]['segmentations'] = boundaries\n",
    "        print(\"Successfully loaded cell boundaries.\")\n",
    "    else:\n",
    "        print(\"Cell boundaries file not found.\")\n",
    "except Exception as e:\n",
    "    print(f\"Could not load cell boundaries: {e}\")"
   ]
  },
  {
   "cell_type": "markdown",
   "id": "7842a9e8",
   "metadata": {},
   "source": [
    "## 4. Pre-processing and QC\n",
    "\n",
    "We perform standard pre-processing and quality control steps."
   ]
  },
  {
   "cell_type": "code",
   "execution_count": null,
   "id": "432cd90f",
   "metadata": {
    "lines_to_next_cell": 2
   },
   "outputs": [],
   "source": [
    "adata.var_names_make_unique()\n",
    "sc.pp.calculate_qc_metrics(adata, percent_top=(50, 100, 200, 300), inplace=True)\n",
    "\n",
    "fig, axs = plt.subplots(1, 4, figsize=(15, 4))\n",
    "sns.histplot(adata.obs[\"total_counts\"], kde=False, ax=axs[0])\n",
    "axs[0].set_title(\"Total transcripts per cell\")\n",
    "sns.histplot(adata.obs[\"n_genes_by_counts\"], kde=False, ax=axs[1])\n",
    "axs[1].set_title(\"Unique transcripts per cell\")\n",
    "sns.histplot(adata.obs.groupby(\"fov\").sum()[\"total_counts\"], kde=False, ax=axs[2])\n",
    "axs[2].set_title(\"Transcripts per FOV\")\n",
    "sns.histplot(adata.obs[\"volume\"], kde=False, ax=axs[3])\n",
    "axs[3].set_title(\"Volume of segmented cells\")\n",
    "fig.tight_layout()\n",
    "plt.savefig(results_dir / \"qc_metrics_distribution.png\")\n",
    "print(\"Saved QC metrics distribution plot.\")"
   ]
  },
  {
   "cell_type": "markdown",
   "id": "54845b34",
   "metadata": {},
   "source": [
    "### Filtering"
   ]
  },
  {
   "cell_type": "code",
   "execution_count": null,
   "id": "e9175722",
   "metadata": {
    "lines_to_next_cell": 2
   },
   "outputs": [],
   "source": [
    "# Filter cells with low expression and genes that are expressed in too few cells.\n",
    "# These are example values, they might need adjustment based on the plots above.\n",
    "print(f\"Number of cells before filtering: {adata.n_obs}\")\n",
    "sc.pp.filter_cells(adata, min_counts=50)\n",
    "print(f\"Number of cells after filtering by counts: {adata.n_obs}\")\n",
    "\n",
    "print(f\"Number of genes before filtering: {adata.n_vars}\")\n",
    "sc.pp.filter_genes(adata, min_cells=10)\n",
    "print(f\"Number of genes after filtering by cells: {adata.n_vars}\")"
   ]
  },
  {
   "cell_type": "markdown",
   "id": "374b9e6a",
   "metadata": {},
   "source": [
    "### Normalization and Scaling"
   ]
  },
  {
   "cell_type": "code",
   "execution_count": null,
   "id": "6c3d5e96",
   "metadata": {},
   "outputs": [],
   "source": [
    "sc.pp.normalize_total(adata)\n",
    "sc.pp.log1p(adata)\n",
    "sc.pp.scale(adata, max_value=10)\n",
    "print(\"Normalization and scaling complete.\")"
   ]
  },
  {
   "cell_type": "markdown",
   "id": "3e956d59",
   "metadata": {},
   "source": [
    "## 5. Dimensionality Reduction and Clustering"
   ]
  },
  {
   "cell_type": "code",
   "execution_count": null,
   "id": "bba81c80",
   "metadata": {},
   "outputs": [],
   "source": [
    "sc.tl.pca(adata, svd_solver=\"arpack\")\n",
    "sc.pp.neighbors(adata, n_neighbors=10, n_pcs=20)\n",
    "sc.tl.umap(adata)\n",
    "sc.tl.leiden(adata, resolution=1.0)\n",
    "print(\"Dimensionality reduction and clustering complete.\")"
   ]
  },
  {
   "cell_type": "markdown",
   "id": "bc1ddaf9",
   "metadata": {},
   "source": [
    "## 6. Visualization"
   ]
  },
  {
   "cell_type": "markdown",
   "id": "d25e40f8",
   "metadata": {},
   "source": [
    "### UMAP"
   ]
  },
  {
   "cell_type": "code",
   "execution_count": null,
   "id": "345c1adc",
   "metadata": {
    "lines_to_next_cell": 2
   },
   "outputs": [],
   "source": [
    "sc.pl.umap(adata, color=[\"leiden\"], size=5, show=False, save=\"_leiden.png\")\n",
    "# Move the file to the results directory\n",
    "Path(\"figures/umap_leiden.png\").rename(results_dir / \"umap_leiden.png\")\n",
    "shutil.rmtree(\"figures\")\n",
    "print(\"Saved UMAP plot.\")"
   ]
  },
  {
   "cell_type": "markdown",
   "id": "8cd81ddd",
   "metadata": {},
   "source": [
    "### Spatial Scatter"
   ]
  },
  {
   "cell_type": "code",
   "execution_count": null,
   "id": "6ca6c159",
   "metadata": {},
   "outputs": [],
   "source": [
    "sq.pl.spatial_scatter(\n",
    "    adata,\n",
    "    library_id=library_id,\n",
    "    color=\"leiden\",\n",
    "    img=False,\n",
    "    figsize=(15, 15),\n",
    "    save=\"_leiden_with_boundaries.png\"\n",
    ")\n",
    "# Move the file to the results directory\n",
    "if os.path.exists(\"figures/spatial_leiden.png\"):\n",
    "    Path(\"figures/spatial_leiden.png\").rename(results_dir / \"spatial_scatter_leiden.png\")\n",
    "    shutil.rmtree(\"figures\")\n",
    "    print(\"Saved spatial scatter plot.\")\n",
    "else:\n",
    "    print(\"Could not save spatial scatter plot.\")"
   ]
  },
  {
   "cell_type": "markdown",
   "id": "1a5f87ad",
   "metadata": {},
   "source": [
    "## 7. Spatial Analysis\n",
    "We can investigate the spatial organization of the clustered cells."
   ]
  },
  {
   "cell_type": "markdown",
   "id": "3f4a7bfa",
   "metadata": {},
   "source": [
    "### Neighborhood Enrichment\n",
    "This test identifies clusters that are spatially co-enriched."
   ]
  },
  {
   "cell_type": "code",
   "execution_count": null,
   "id": "83548143",
   "metadata": {},
   "outputs": [],
   "source": [
    "sq.gr.spatial_neighbors(adata, coord_type=\"generic\", spatial_key=\"spatial\")\n",
    "sq.gr.nhood_enrichment(adata, cluster_key=\"leiden\")\n",
    "sq.pl.nhood_enrichment(\n",
    "    adata,\n",
    "    cluster_key=\"leiden\",\n",
    "    method=\"average\",\n",
    "    cmap=\"inferno\",\n",
    "    vmin=-50,\n",
    "    vmax=100,\n",
    "    figsize=(7, 7),\n",
    "    save=\"_enrichment.png\",\n",
    ")\n",
    "Path(\"figures/_enrichment.png\").rename(results_dir / \"neighborhood_enrichment.png\")\n",
    "shutil.rmtree(\"figures\")\n",
    "print(\"Saved neighborhood enrichment plot.\")"
   ]
  },
  {
   "cell_type": "markdown",
   "id": "d7df5167",
   "metadata": {},
   "source": [
    "### Spatial Autocorrelation (Moran's I)\n",
    "Identify genes that show a non-random spatial distribution."
   ]
  },
  {
   "cell_type": "code",
   "execution_count": null,
   "id": "eace1b46",
   "metadata": {},
   "outputs": [],
   "source": [
    "sq.gr.spatial_autocorr(adata, mode=\"moran\")\n",
    "print(\"Top 10 spatially autocorrelated genes:\")\n",
    "print(adata.uns[\"moranI\"].head(10))"
   ]
  },
  {
   "cell_type": "markdown",
   "id": "1cc5e69a",
   "metadata": {},
   "source": [
    "### Visualize top spatially autocorrelated genes"
   ]
  },
  {
   "cell_type": "code",
   "execution_count": null,
   "id": "9098143d",
   "metadata": {
    "lines_to_next_cell": 0
   },
   "outputs": [],
   "source": [
    "top_autocorr = adata.uns[\"moranI\"][\"I\"].sort_values(ascending=False).head(4).index.tolist()\n",
    "sq.pl.spatial_scatter(\n",
    "    adata,\n",
    "    library_id=library_id,\n",
    "    color=top_autocorr,\n",
    "    size=5,\n",
    "    cmap=\"Reds\",\n",
    "    img=False,\n",
    "    figsize=(10, 10),\n",
    "    save=\"_top_autocorr.png\"\n",
    ")\n",
    "if os.path.exists(\"figures/spatial_top_autocorr.png\"):\n",
    "    Path(\"figures/spatial_top_autocorr.png\").rename(results_dir / \"spatial_top_autocorr.png\")\n",
    "    os.rmdir(\"figures\")\n",
    "    print(\"Saved top spatially autocorrelated genes plot.\")\n",
    "else:\n",
    "    print(\"Could not save top spatially autocorrelated genes plot.\")\n",
    "\n",
    "print(\"\\nAnalysis complete. Results are in the 'analysis_results' directory.\")"
   ]
  },
  {
   "cell_type": "code",
   "execution_count": null,
   "id": "761479ba",
   "metadata": {},
   "outputs": [],
   "source": []
  }
 ],
 "metadata": {
  "jupytext": {
   "cell_metadata_filter": "-all",
   "main_language": "python",
   "notebook_metadata_filter": "-all"
  },
  "kernelspec": {
   "display_name": "Python (vpt)",
   "language": "python",
   "name": "vpt"
  }
 },
 "nbformat": 4,
 "nbformat_minor": 5
}
