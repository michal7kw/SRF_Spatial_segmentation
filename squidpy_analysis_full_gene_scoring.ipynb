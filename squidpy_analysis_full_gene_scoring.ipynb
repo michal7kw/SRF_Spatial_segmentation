{
 "cells": [
  {
   "cell_type": "markdown",
   "id": "2f8a8988",
   "metadata": {},
   "source": [
    "# Squidpy analysis of Vizgen data with Spatial Gene Set Scoring"
   ]
  },
  {
   "cell_type": "markdown",
   "id": "4dce675d",
   "metadata": {},
   "source": [
    "## 1. Imports"
   ]
  },
  {
   "cell_type": "code",
   "execution_count": null,
   "id": "0de727e3",
   "metadata": {},
   "outputs": [],
   "source": [
    "import numpy as np\n",
    "import pandas as pd\n",
    "from pathlib import Path\n",
    "import shutil\n",
    "import os\n",
    "from matplotlib import pyplot as plt\n",
    "import seaborn as sns\n",
    "import re\n",
    "from typing import Dict, List\n",
    "\n",
    "import scanpy as sc\n",
    "import squidpy as sq\n",
    "import geopandas as gpd"
   ]
  },
  {
   "cell_type": "markdown",
   "id": "7284d7be",
   "metadata": {},
   "source": [
    "## 2. Setup"
   ]
  },
  {
   "cell_type": "code",
   "execution_count": null,
   "id": "9fd43617",
   "metadata": {},
   "outputs": [],
   "source": [
    "os.chdir(\"/beegfs/scratch/ric.sessa/kubacki.michal/SRF_Linda/SRF_Spatial_segmentation\")"
   ]
  },
  {
   "cell_type": "markdown",
   "id": "70dc200c",
   "metadata": {},
   "source": [
    "## 3. Load Data"
   ]
  },
  {
   "cell_type": "code",
   "execution_count": null,
   "id": "58628194",
   "metadata": {},
   "outputs": [],
   "source": [
    "data_dir = \"./DATA/p0-p7/R1\"\n",
    "# Create a directory to save the results\n",
    "results_dir = os.path.join(data_dir, \"analysis_results\")\n",
    "os.makedirs(results_dir, exist_ok=True)"
   ]
  },
  {
   "cell_type": "code",
   "execution_count": null,
   "id": "84064b91",
   "metadata": {
    "lines_to_next_cell": 2
   },
   "outputs": [],
   "source": [
    "adata = sq.read.vizgen(\n",
    "    path=data_dir,\n",
    "    counts_file=\"cell_by_gene.csv\",\n",
    "    meta_file=\"cell_metadata.csv\",\n",
    ")\n",
    "print(\"Data loaded:\")\n",
    "print(adata)"
   ]
  },
  {
   "cell_type": "markdown",
   "id": "2e956de4",
   "metadata": {},
   "source": [
    "### Get Library ID"
   ]
  },
  {
   "cell_type": "code",
   "execution_count": null,
   "id": "fc4ad592",
   "metadata": {
    "lines_to_next_cell": 2
   },
   "outputs": [],
   "source": [
    "# Get the library id from the anndata object\n",
    "try:\n",
    "    library_id = list(adata.uns['spatial'].keys())[0]\n",
    "    print(f\"Using library_id: {library_id}\")\n",
    "except (KeyError, IndexError):\n",
    "    print(\"Could not automatically determine library_id. Spatial plots may fail.\")\n",
    "    library_id = None"
   ]
  },
  {
   "cell_type": "markdown",
   "id": "131dad9e",
   "metadata": {},
   "source": [
    "### Load Cell Boundaries"
   ]
  },
  {
   "cell_type": "code",
   "execution_count": null,
   "id": "00abfe67",
   "metadata": {
    "lines_to_next_cell": 2
   },
   "outputs": [],
   "source": [
    "# Load the cell boundaries and add them to the anndata object\n",
    "try:\n",
    "    segmentation_path = os.path.join(data_dir, \"cell_boundaries.parquet\")\n",
    "    boundaries = gpd.read_parquet(segmentation_path)\n",
    "    adata.uns['spatial'][library_id]['segmentations'] = boundaries\n",
    "    print(\"Successfully loaded cell boundaries.\")\n",
    "except Exception as e:\n",
    "    print(f\"Could not load cell boundaries: {e}\")"
   ]
  },
  {
   "cell_type": "markdown",
   "id": "acacec41",
   "metadata": {},
   "source": [
    "## 4. Pre-processing and QC\n",
    "\n",
    "We perform standard pre-processing and quality control steps."
   ]
  },
  {
   "cell_type": "code",
   "execution_count": null,
   "id": "86a7dd85",
   "metadata": {
    "lines_to_next_cell": 2
   },
   "outputs": [],
   "source": [
    "adata.var_names_make_unique()\n",
    "sc.pp.calculate_qc_metrics(adata, percent_top=(50, 100, 200, 300), inplace=True)\n",
    "\n",
    "fig, axs = plt.subplots(1, 4, figsize=(15, 4))\n",
    "sns.histplot(adata.obs[\"total_counts\"], kde=False, ax=axs[0])\n",
    "axs[0].set_title(\"Total transcripts per cell\")\n",
    "sns.histplot(adata.obs[\"n_genes_by_counts\"], kde=False, ax=axs[1])\n",
    "axs[1].set_title(\"Unique transcripts per cell\")\n",
    "sns.histplot(adata.obs.groupby(\"fov\").sum()[\"total_counts\"], kde=False, ax=axs[2])\n",
    "axs[2].set_title(\"Transcripts per FOV\")\n",
    "sns.histplot(adata.obs[\"volume\"], kde=False, ax=axs[3])\n",
    "axs[3].set_title(\"Volume of segmented cells\")\n",
    "fig.tight_layout()\n",
    "plt.savefig(os.path.join(results_dir, \"qc_metrics_distribution.png\"))\n",
    "print(\"Saved QC metrics distribution plot.\")"
   ]
  },
  {
   "cell_type": "markdown",
   "id": "7e4bd568",
   "metadata": {},
   "source": [
    "### Filtering"
   ]
  },
  {
   "cell_type": "code",
   "execution_count": null,
   "id": "aad3c977",
   "metadata": {
    "lines_to_next_cell": 2
   },
   "outputs": [],
   "source": [
    "# Filter cells with low expression and genes that are expressed in too few cells.\n",
    "print(f\"Number of cells before filtering: {adata.n_obs}\")\n",
    "sc.pp.filter_cells(adata, min_counts=50)\n",
    "print(f\"Number of cells after filtering by counts: {adata.n_obs}\")\n",
    "\n",
    "print(f\"Number of genes before filtering: {adata.n_vars}\")\n",
    "sc.pp.filter_genes(adata, min_cells=10)\n",
    "print(f\"Number of genes after filtering by cells: {adata.n_vars}\")"
   ]
  },
  {
   "cell_type": "markdown",
   "id": "e6b7525b",
   "metadata": {},
   "source": [
    "### Normalization and Scaling"
   ]
  },
  {
   "cell_type": "code",
   "execution_count": null,
   "id": "be7002ed",
   "metadata": {},
   "outputs": [],
   "source": [
    "sc.pp.normalize_total(adata)\n",
    "sc.pp.log1p(adata)\n",
    "sc.pp.scale(adata, max_value=10)\n",
    "print(\"Normalization and scaling complete.\")"
   ]
  },
  {
   "cell_type": "markdown",
   "id": "8f3dc27e",
   "metadata": {},
   "source": [
    "## 5. Dimensionality Reduction and Clustering"
   ]
  },
  {
   "cell_type": "code",
   "execution_count": null,
   "id": "f907961b",
   "metadata": {},
   "outputs": [],
   "source": [
    "sc.tl.pca(adata, svd_solver=\"arpack\")\n",
    "sc.pp.neighbors(adata, n_neighbors=10, n_pcs=20)\n",
    "sc.tl.umap(adata)\n",
    "sc.tl.leiden(adata, resolution=1.0)\n",
    "print(\"Dimensionality reduction and clustering complete.\")"
   ]
  },
  {
   "cell_type": "markdown",
   "id": "55edf952",
   "metadata": {},
   "source": [
    "## 6. Visualization"
   ]
  },
  {
   "cell_type": "markdown",
   "id": "49365987",
   "metadata": {},
   "source": [
    "### UMAP"
   ]
  },
  {
   "cell_type": "code",
   "execution_count": null,
   "id": "c774aa3b",
   "metadata": {
    "lines_to_next_cell": 2
   },
   "outputs": [],
   "source": [
    "sc.pl.umap(adata, color=[\"leiden\"], size=10, show=False, save=\"_leiden.png\")\n",
    "# Move the file to the results directory\n",
    "Path(\"figures/umap_leiden.png\").rename(f\"{results_dir}/umap_leiden.png\")\n",
    "shutil.rmtree(\"figures\")\n",
    "print(\"Saved UMAP plot.\")"
   ]
  },
  {
   "cell_type": "markdown",
   "id": "33153856",
   "metadata": {},
   "source": [
    "### Spatial Scatter"
   ]
  },
  {
   "cell_type": "code",
   "execution_count": null,
   "id": "3944e1e8",
   "metadata": {},
   "outputs": [],
   "source": [
    "sq.pl.spatial_scatter(\n",
    "    adata,\n",
    "    library_id=library_id,\n",
    "    color=\"leiden\",\n",
    "    img=False,\n",
    "    figsize=(15, 15),\n",
    "    size=10,\n",
    "    save=\"spatial_leiden.png\"\n",
    ")\n",
    "# Move the file to the results directory\n",
    "if os.path.exists(\"figures/spatial_leiden.png\"):\n",
    "    Path(\"figures/spatial_leiden.png\").rename(f\"{results_dir}/spatial_leiden.png\")\n",
    "    shutil.rmtree(\"figures\")\n",
    "    print(\"Saved spatial scatter plot.\")\n",
    "else:\n",
    "    print(\"Could not save spatial scatter plot.\")"
   ]
  },
  {
   "cell_type": "markdown",
   "id": "5d602caa",
   "metadata": {},
   "source": [
    "## 7. Spatial Analysis\n",
    "Spatial organization of the clustered cells."
   ]
  },
  {
   "cell_type": "markdown",
   "id": "c9c7a631",
   "metadata": {},
   "source": [
    "### Neighborhood Enrichment\n",
    "Clusters that are spatially co-enriched."
   ]
  },
  {
   "cell_type": "code",
   "execution_count": null,
   "id": "d2a7aef7",
   "metadata": {},
   "outputs": [],
   "source": [
    "sq.gr.spatial_neighbors(adata, coord_type=\"generic\", spatial_key=\"spatial\")\n",
    "sq.gr.nhood_enrichment(adata, cluster_key=\"leiden\")\n",
    "sq.pl.nhood_enrichment(\n",
    "    adata,\n",
    "    cluster_key=\"leiden\",\n",
    "    method=\"average\",\n",
    "    cmap=\"inferno\",\n",
    "    vmin=-50,\n",
    "    vmax=100,\n",
    "    figsize=(7, 7),\n",
    "    save=\"_enrichment.png\",\n",
    ")\n",
    "Path(\"figures/_enrichment.png\").rename(f\"{results_dir}/neighborhood_enrichment.png\")\n",
    "shutil.rmtree(\"figures\")\n",
    "print(\"Saved neighborhood enrichment plot.\")"
   ]
  },
  {
   "cell_type": "markdown",
   "id": "66bfaaf4",
   "metadata": {},
   "source": [
    "### Spatial Autocorrelation (Moran's I)\n",
    "Identify genes that show a non-random spatial distribution."
   ]
  },
  {
   "cell_type": "code",
   "execution_count": null,
   "id": "fd62eb74",
   "metadata": {},
   "outputs": [],
   "source": [
    "sq.gr.spatial_autocorr(adata, mode=\"moran\")\n",
    "print(\"Top 10 spatially autocorrelated genes:\")\n",
    "print(adata.uns[\"moranI\"].head(10))"
   ]
  },
  {
   "cell_type": "markdown",
   "id": "343b0641",
   "metadata": {},
   "source": [
    "### Visualize top spatially autocorrelated genes"
   ]
  },
  {
   "cell_type": "code",
   "execution_count": null,
   "id": "c52d29d3",
   "metadata": {
    "lines_to_next_cell": 1
   },
   "outputs": [],
   "source": [
    "top_autocorr = adata.uns[\"moranI\"][\"I\"].sort_values(ascending=False).head(4).index.tolist()\n",
    "sq.pl.spatial_scatter(\n",
    "    adata,\n",
    "    library_id=library_id,\n",
    "    color=top_autocorr,\n",
    "    size=5,\n",
    "    cmap=\"Reds\",\n",
    "    img=False,\n",
    "    figsize=(10, 10),\n",
    "    save=\"spatial_top_autocorr.png\"\n",
    ")\n",
    "Path(\"./figures/spatial_top_autocorr.png\").rename(f\"{results_dir}/spatial_top_autocorr.png\")\n",
    "os.rmdir(\"figures\")\n",
    "print(\"Saved top spatially autocorrelated genes plot.\")"
   ]
  },
  {
   "cell_type": "markdown",
   "id": "3f9ddad6",
   "metadata": {},
   "source": [
    "## 8. Gene Set Scoring on Spatial Grid"
   ]
  },
  {
   "cell_type": "markdown",
   "id": "1aecf754",
   "metadata": {},
   "source": [
    "### Load and Parse Gene Lists"
   ]
  },
  {
   "cell_type": "code",
   "execution_count": null,
   "id": "3a927eb0",
   "metadata": {
    "lines_to_next_cell": 1
   },
   "outputs": [],
   "source": [
    "def parse_gene_lists(file_path: str) -> Dict[str, List[str]]:\n",
    "    \"\"\"\n",
    "    Parse gene lists from CSV file.\n",
    "    Expected format: First row contains gene set names as headers,\n",
    "    followed by genes in columns below each header.\n",
    "    \"\"\"\n",
    "    import pandas as pd\n",
    "    \n",
    "    gene_sets = {}\n",
    "    \n",
    "    try:\n",
    "        # Read the CSV file using pandas\n",
    "        df = pd.read_csv(file_path)\n",
    "        \n",
    "        # Get column names (gene set names)\n",
    "        gene_set_names = df.columns.tolist()\n",
    "        \n",
    "        # Extract genes for each gene set\n",
    "        for col_name in gene_set_names:\n",
    "            # Get all non-null values from this column\n",
    "            genes = df[col_name].dropna().tolist()\n",
    "            \n",
    "            # Clean gene names (remove any whitespace)\n",
    "            genes = [str(gene).strip() for gene in genes if str(gene).strip()]\n",
    "            \n",
    "            # Clean gene set name for use as key\n",
    "            clean_name = re.sub(r'[^a-zA-Z0-9_]', '_', col_name)\n",
    "            gene_sets[clean_name] = genes\n",
    "            \n",
    "    except Exception as e:\n",
    "        print(f\"Error reading CSV file: {e}\")\n",
    "        print(\"Attempting manual parsing...\")\n",
    "        \n",
    "        # Fallback to manual parsing\n",
    "        with open(file_path, 'r') as f:\n",
    "            lines = f.readlines()\n",
    "        \n",
    "        if not lines:\n",
    "            return gene_sets\n",
    "        \n",
    "        # First line should contain gene set names\n",
    "        header_line = lines[0].strip()\n",
    "        gene_set_names = [name.strip() for name in header_line.split(',')]\n",
    "        \n",
    "        # Initialize gene lists\n",
    "        for name in gene_set_names:\n",
    "            clean_name = re.sub(r'[^a-zA-Z0-9_]', '_', name)\n",
    "            gene_sets[clean_name] = []\n",
    "        \n",
    "        # Process remaining lines\n",
    "        for line in lines[1:]:\n",
    "            line = line.strip()\n",
    "            if not line:\n",
    "                continue\n",
    "                \n",
    "            genes_in_line = [gene.strip() for gene in line.split(',')]\n",
    "            \n",
    "            # Add genes to corresponding gene sets\n",
    "            for i, gene in enumerate(genes_in_line):\n",
    "                if gene and i < len(gene_set_names):\n",
    "                    clean_name = re.sub(r'[^a-zA-Z0-9_]', '_', gene_set_names[i])\n",
    "                    gene_sets[clean_name].append(gene)\n",
    "    \n",
    "    return gene_sets\n",
    "\n",
    "# Load gene lists\n",
    "gene_list_path = \"./GENE_LISTS/input/bp_others.csv\"\n",
    "gene_sets = parse_gene_lists(gene_list_path)\n",
    "\n",
    "print(\"Loaded gene sets:\")\n",
    "for set_name, genes in gene_sets.items():\n",
    "    print(f\"  {set_name}: {len(genes)} genes\")\n",
    "    print(f\"    First 5 genes: {genes[:5]}\")"
   ]
  },
  {
   "cell_type": "markdown",
   "id": "9da08886",
   "metadata": {},
   "source": [
    "### Create Spatial Grid"
   ]
  },
  {
   "cell_type": "code",
   "execution_count": null,
   "id": "98f8550e",
   "metadata": {
    "lines_to_next_cell": 1
   },
   "outputs": [],
   "source": [
    "def create_spatial_grid(adata, grid_size=(40, 40)):\n",
    "    \"\"\"\n",
    "    Create a spatial grid and assign each cell to a grid position.\n",
    "    \"\"\"\n",
    "    # Get spatial coordinates\n",
    "    spatial_coords = adata.obsm['spatial']\n",
    "    \n",
    "    # Calculate grid boundaries\n",
    "    x_min, x_max = spatial_coords[:, 0].min(), spatial_coords[:, 0].max()\n",
    "    y_min, y_max = spatial_coords[:, 1].min(), spatial_coords[:, 1].max()\n",
    "    \n",
    "    # Create grid\n",
    "    x_bins = np.linspace(x_min, x_max, grid_size[0] + 1)\n",
    "    y_bins = np.linspace(y_min, y_max, grid_size[1] + 1)\n",
    "    \n",
    "    # Assign cells to grid positions\n",
    "    x_indices = np.digitize(spatial_coords[:, 0], x_bins) - 1\n",
    "    y_indices = np.digitize(spatial_coords[:, 1], y_bins) - 1\n",
    "    \n",
    "    # Ensure indices are within bounds\n",
    "    x_indices = np.clip(x_indices, 0, grid_size[0] - 1)\n",
    "    y_indices = np.clip(y_indices, 0, grid_size[1] - 1)\n",
    "    \n",
    "    # Create grid identifiers\n",
    "    grid_ids = x_indices * grid_size[1] + y_indices\n",
    "    \n",
    "    # Add to adata\n",
    "    adata.obs['grid_x'] = x_indices\n",
    "    adata.obs['grid_y'] = y_indices\n",
    "    adata.obs['grid_id'] = grid_ids\n",
    "    \n",
    "    return x_bins, y_bins\n",
    "\n",
    "# Create spatial grid\n",
    "print(\"Creating 40x40 spatial grid...\")\n",
    "x_bins, y_bins = create_spatial_grid(adata, grid_size=(40, 40))\n",
    "print(f\"Grid created. Cells distributed across {adata.obs['grid_id'].nunique()} grid positions.\")"
   ]
  },
  {
   "cell_type": "markdown",
   "id": "5d0638ba",
   "metadata": {},
   "source": [
    "### Perform Gene Set Scoring per Grid Cell"
   ]
  },
  {
   "cell_type": "code",
   "execution_count": null,
   "id": "526085f9",
   "metadata": {
    "lines_to_next_cell": 1
   },
   "outputs": [],
   "source": [
    "def score_gene_sets_per_grid(adata, gene_sets, grid_size=(40, 40)):\n",
    "    \"\"\"\n",
    "    Score gene sets for each grid cell.\n",
    "    \"\"\"\n",
    "    # Create a copy of adata for scoring\n",
    "    adata_scoring = adata.copy()\n",
    "    \n",
    "    # Results storage\n",
    "    grid_scores = {}\n",
    "    \n",
    "    for set_name, genes in gene_sets.items():\n",
    "        print(f\"Scoring gene set: {set_name}\")\n",
    "        \n",
    "        # Filter genes that exist in the dataset\n",
    "        available_genes = [g for g in genes if g in adata_scoring.var_names]\n",
    "        missing_genes = [g for g in genes if g not in adata_scoring.var_names]\n",
    "        \n",
    "        print(f\"  Available genes: {len(available_genes)}/{len(genes)}\")\n",
    "        if missing_genes:\n",
    "            print(f\"  Missing genes: {missing_genes[:10]}{'...' if len(missing_genes) > 10 else ''}\")\n",
    "        \n",
    "        if len(available_genes) == 0:\n",
    "            print(f\"  Skipping {set_name} - no genes found in dataset\")\n",
    "            continue\n",
    "        \n",
    "        # Score gene set using scanpy\n",
    "        sc.tl.score_genes(adata_scoring, available_genes, score_name=f'{set_name}_score')\n",
    "        \n",
    "        # Calculate mean score per grid cell\n",
    "        grid_scores_for_set = []\n",
    "        grid_positions = []\n",
    "        \n",
    "        for grid_id in range(grid_size[0] * grid_size[1]):\n",
    "            cells_in_grid = adata_scoring.obs['grid_id'] == grid_id\n",
    "            \n",
    "            if cells_in_grid.sum() > 0:\n",
    "                mean_score = adata_scoring.obs.loc[cells_in_grid, f'{set_name}_score'].mean()\n",
    "                grid_scores_for_set.append(mean_score)\n",
    "            else:\n",
    "                grid_scores_for_set.append(np.nan)\n",
    "            \n",
    "            # Calculate grid position\n",
    "            x_pos = grid_id // grid_size[1]\n",
    "            y_pos = grid_id % grid_size[1]\n",
    "            grid_positions.append((x_pos, y_pos))\n",
    "        \n",
    "        grid_scores[set_name] = {\n",
    "            'scores': np.array(grid_scores_for_set),\n",
    "            'positions': grid_positions\n",
    "        }\n",
    "    \n",
    "    return grid_scores\n",
    "\n",
    "# Perform gene set scoring\n",
    "print(\"Performing gene set scoring per grid cell...\")\n",
    "grid_scores = score_gene_sets_per_grid(adata, gene_sets, grid_size=(40, 40))"
   ]
  },
  {
   "cell_type": "markdown",
   "id": "e2f25bbe",
   "metadata": {},
   "source": [
    "### Visualize Gene Set Scores on Spatial Grid"
   ]
  },
  {
   "cell_type": "code",
   "execution_count": null,
   "id": "e48149cf",
   "metadata": {},
   "outputs": [],
   "source": [
    "def plot_grid_scores(grid_scores, grid_size=(40, 40), save_dir=None):\n",
    "    \"\"\"\n",
    "    Plot gene set scores as heatmaps on the spatial grid.\n",
    "    \"\"\"\n",
    "    n_sets = len(grid_scores)\n",
    "    if n_sets == 0:\n",
    "        print(\"No gene sets to plot\")\n",
    "        return\n",
    "    \n",
    "    # Calculate subplot layout\n",
    "    n_cols = min(3, n_sets)\n",
    "    n_rows = (n_sets + n_cols - 1) // n_cols\n",
    "    \n",
    "    fig, axes = plt.subplots(n_rows, n_cols, figsize=(5 * n_cols, 4 * n_rows))\n",
    "    \n",
    "    # Handle different cases for axes indexing\n",
    "    if n_sets == 1:\n",
    "        axes = [axes]  # Single subplot case\n",
    "    elif n_rows == 1:\n",
    "        # Single row case - axes is already a 1D array\n",
    "        pass\n",
    "    else:\n",
    "        # Multiple rows case - axes is already a 2D array\n",
    "        pass\n",
    "    \n",
    "    for idx, (set_name, data) in enumerate(grid_scores.items()):\n",
    "        row = idx // n_cols\n",
    "        col = idx % n_cols\n",
    "        \n",
    "        # Get the correct axis based on the layout\n",
    "        if n_sets == 1:\n",
    "            ax = axes[0]\n",
    "        elif n_rows == 1:\n",
    "            ax = axes[col]\n",
    "        else:\n",
    "            ax = axes[row, col]\n",
    "        \n",
    "        # Reshape scores to grid\n",
    "        score_grid = data['scores'].reshape(grid_size)\n",
    "        \n",
    "        # Create heatmap\n",
    "        im = ax.imshow(score_grid, cmap='viridis', aspect='equal', origin='lower')\n",
    "        ax.set_title(f'{set_name}\\nGene Set Score')\n",
    "        ax.set_xlabel('Grid X')\n",
    "        ax.set_ylabel('Grid Y')\n",
    "        \n",
    "        # Add colorbar\n",
    "        plt.colorbar(im, ax=ax, shrink=0.8)\n",
    "    \n",
    "    # Hide empty subplots\n",
    "    for idx in range(n_sets, n_rows * n_cols):\n",
    "        row = idx // n_cols\n",
    "        col = idx % n_cols\n",
    "        \n",
    "        # Get the correct axis for hiding\n",
    "        if n_sets == 1:\n",
    "            continue  # No empty subplots in single plot case\n",
    "        elif n_rows == 1:\n",
    "            ax = axes[col]\n",
    "        else:\n",
    "            ax = axes[row, col]\n",
    "        ax.set_visible(False)\n",
    "    \n",
    "    plt.tight_layout()\n",
    "    \n",
    "    if save_dir:\n",
    "        plt.savefig(os.path.join(save_dir, \"spatial_gene_set_scores.png\"), dpi=300, bbox_inches='tight')\n",
    "        print(f\"Saved spatial gene set scores plot to {save_dir}\")\n",
    "    \n",
    "    plt.show()\n",
    "\n",
    "# Plot results\n",
    "plot_grid_scores(grid_scores, grid_size=(40, 40), save_dir=results_dir)"
   ]
  },
  {
   "cell_type": "markdown",
   "id": "f3c88f39",
   "metadata": {},
   "source": [
    "### Save Results"
   ]
  },
  {
   "cell_type": "code",
   "execution_count": null,
   "id": "dcfeec46",
   "metadata": {},
   "outputs": [],
   "source": [
    "# Save grid scores to CSV\n",
    "for set_name, data in grid_scores.items():\n",
    "    # Create DataFrame with grid positions and scores\n",
    "    df = pd.DataFrame({\n",
    "        'grid_x': [pos[0] for pos in data['positions']],\n",
    "        'grid_y': [pos[1] for pos in data['positions']],\n",
    "        'score': data['scores']\n",
    "    })\n",
    "    \n",
    "    # Save to CSV\n",
    "    output_file = os.path.join(results_dir, f\"grid_scores_{set_name}.csv\")\n",
    "    df.to_csv(output_file, index=False)\n",
    "    print(f\"Saved {set_name} grid scores to {output_file}\")\n",
    "\n",
    "# Save summary statistics\n",
    "summary_stats = []\n",
    "for set_name, data in grid_scores.items():\n",
    "    scores = data['scores']\n",
    "    valid_scores = scores[~np.isnan(scores)]\n",
    "    \n",
    "    if len(valid_scores) > 0:\n",
    "        stats = {\n",
    "            'gene_set': set_name,\n",
    "            'n_grid_cells': len(valid_scores),\n",
    "            'mean_score': np.mean(valid_scores),\n",
    "            'std_score': np.std(valid_scores),\n",
    "            'min_score': np.min(valid_scores),\n",
    "            'max_score': np.max(valid_scores)\n",
    "        }\n",
    "        summary_stats.append(stats)\n",
    "\n",
    "summary_df = pd.DataFrame(summary_stats)\n",
    "summary_file = os.path.join(results_dir, \"gene_set_scoring_summary.csv\")\n",
    "summary_df.to_csv(summary_file, index=False)\n",
    "print(f\"Saved summary statistics to {summary_file}\")\n",
    "\n",
    "print(\"\\nSpatial gene set scoring analysis complete!\")\n",
    "print(\"Results saved in the 'analysis_results' directory:\")\n",
    "print(\"- spatial_gene_set_scores.png: Heatmap visualization\")\n",
    "print(\"- grid_scores_*.csv: Individual gene set scores per grid cell\")\n",
    "print(\"- gene_set_scoring_summary.csv: Summary statistics\")"
   ]
  },
  {
   "cell_type": "code",
   "execution_count": null,
   "id": "a5778e32",
   "metadata": {},
   "outputs": [],
   "source": []
  }
 ],
 "metadata": {
  "jupytext": {
   "cell_metadata_filter": "-all",
   "main_language": "python",
   "notebook_metadata_filter": "-all"
  }
 },
 "nbformat": 4,
 "nbformat_minor": 5
}
