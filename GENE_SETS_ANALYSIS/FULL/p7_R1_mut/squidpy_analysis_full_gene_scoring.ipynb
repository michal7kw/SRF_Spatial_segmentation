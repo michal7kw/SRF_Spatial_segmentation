{
 "cells": [
  {
   "cell_type": "markdown",
   "id": "95e376c9",
   "metadata": {},
   "source": [
    "# Spatial Gene Set Scoring"
   ]
  },
  {
   "cell_type": "markdown",
   "id": "09eda31e",
   "metadata": {},
   "source": [
    "## 1. Imports"
   ]
  },
  {
   "cell_type": "code",
   "execution_count": 1,
   "id": "3f3babab",
   "metadata": {},
   "outputs": [
    {
     "name": "stderr",
     "output_type": "stream",
     "text": [
      "/beegfs/scratch/ric.sessa/kubacki.michal/conda/envs/vpt/lib/python3.10/site-packages/anndata/utils.py:434: FutureWarning: Importing read_csv from `anndata` is deprecated. Import anndata.io.read_csv instead.\n",
      "  warnings.warn(msg, FutureWarning)\n",
      "/beegfs/scratch/ric.sessa/kubacki.michal/conda/envs/vpt/lib/python3.10/site-packages/anndata/utils.py:434: FutureWarning: Importing read_text from `anndata` is deprecated. Import anndata.io.read_text instead.\n",
      "  warnings.warn(msg, FutureWarning)\n",
      "/beegfs/scratch/ric.sessa/kubacki.michal/conda/envs/vpt/lib/python3.10/site-packages/anndata/utils.py:434: FutureWarning: Importing read_excel from `anndata` is deprecated. Import anndata.io.read_excel instead.\n",
      "  warnings.warn(msg, FutureWarning)\n",
      "/beegfs/scratch/ric.sessa/kubacki.michal/conda/envs/vpt/lib/python3.10/site-packages/anndata/utils.py:434: FutureWarning: Importing read_mtx from `anndata` is deprecated. Import anndata.io.read_mtx instead.\n",
      "  warnings.warn(msg, FutureWarning)\n",
      "/beegfs/scratch/ric.sessa/kubacki.michal/conda/envs/vpt/lib/python3.10/site-packages/anndata/utils.py:434: FutureWarning: Importing read_loom from `anndata` is deprecated. Import anndata.io.read_loom instead.\n",
      "  warnings.warn(msg, FutureWarning)\n",
      "/beegfs/scratch/ric.sessa/kubacki.michal/conda/envs/vpt/lib/python3.10/site-packages/anndata/utils.py:434: FutureWarning: Importing read_hdf from `anndata` is deprecated. Import anndata.io.read_hdf instead.\n",
      "  warnings.warn(msg, FutureWarning)\n",
      "/beegfs/scratch/ric.sessa/kubacki.michal/conda/envs/vpt/lib/python3.10/site-packages/anndata/utils.py:434: FutureWarning: Importing read_umi_tools from `anndata` is deprecated. Import anndata.io.read_umi_tools instead.\n",
      "  warnings.warn(msg, FutureWarning)\n",
      "/beegfs/scratch/ric.sessa/kubacki.michal/conda/envs/vpt/lib/python3.10/site-packages/dask/dataframe/__init__.py:31: FutureWarning: The legacy Dask DataFrame implementation is deprecated and will be removed in a future version. Set the configuration option `dataframe.query-planning` to `True` or None to enable the new Dask Dataframe implementation and silence this warning.\n",
      "  warnings.warn(\n",
      "/beegfs/scratch/ric.sessa/kubacki.michal/conda/envs/vpt/lib/python3.10/site-packages/xarray_schema/__init__.py:1: UserWarning: pkg_resources is deprecated as an API. See https://setuptools.pypa.io/en/latest/pkg_resources.html. The pkg_resources package is slated for removal as early as 2025-11-30. Refrain from using this package or pin to Setuptools<81.\n",
      "  from pkg_resources import DistributionNotFound, get_distribution\n",
      "/beegfs/scratch/ric.sessa/kubacki.michal/conda/envs/vpt/lib/python3.10/site-packages/anndata/utils.py:434: FutureWarning: Importing read_text from `anndata` is deprecated. Import anndata.io.read_text instead.\n",
      "  warnings.warn(msg, FutureWarning)\n"
     ]
    }
   ],
   "source": [
    "import numpy as np\n",
    "import pandas as pd\n",
    "from pathlib import Path\n",
    "import shutil\n",
    "import os\n",
    "from matplotlib import pyplot as plt\n",
    "import seaborn as sns\n",
    "import re\n",
    "from typing import Dict, List\n",
    "\n",
    "import scanpy as sc\n",
    "import squidpy as sq\n",
    "import geopandas as gpd"
   ]
  },
  {
   "cell_type": "markdown",
   "id": "fd2f11d1",
   "metadata": {},
   "source": [
    "## 2. Setup"
   ]
  },
  {
   "cell_type": "code",
   "execution_count": 2,
   "id": "b9c5c1f7",
   "metadata": {},
   "outputs": [],
   "source": [
    "os.chdir(\"/beegfs/scratch/ric.sessa/kubacki.michal/SRF_Linda/SRF_Spatial_segmentation\")"
   ]
  },
  {
   "cell_type": "markdown",
   "id": "ac1b452f",
   "metadata": {},
   "source": [
    "## 3. Load Data"
   ]
  },
  {
   "cell_type": "code",
   "execution_count": 3,
   "id": "57b2e377",
   "metadata": {},
   "outputs": [],
   "source": [
    "data_dir = \"./DATA/p0-p7/R1\"\n",
    "# Create a directory to save the results\n",
    "results_dir = os.path.join(data_dir, \"analysis_results\")\n",
    "os.makedirs(results_dir, exist_ok=True)"
   ]
  },
  {
   "cell_type": "markdown",
   "id": "c0ffbd7b",
   "metadata": {},
   "source": [
    "## Loading Saved Data Back\n",
    "\n",
    "Load the saved AnnData object and cell boundaries back into memory."
   ]
  },
  {
   "cell_type": "code",
   "execution_count": 4,
   "id": "fbfbf1d1",
   "metadata": {
    "lines_to_next_cell": 1
   },
   "outputs": [
    {
     "name": "stdout",
     "output_type": "stream",
     "text": [
      "==================================================\n",
      "Loading saved data back\n",
      "==================================================\n",
      "Loading AnnData object...\n",
      "Loaded AnnData object: AnnData object with n_obs × n_vars = 30084 × 960\n",
      "    obs: 'fov', 'volume', 'min_x', 'min_y', 'max_x', 'max_y', 'anisotropy', 'transcript_count', 'perimeter_area_ratio', 'solidity', 'TAG_raw', 'TAG_high_pass', 'Snap25_raw', 'Snap25_high_pass', 'DAPI_raw', 'DAPI_high_pass', 'Ttr_raw', 'Ttr_high_pass', 'Pcp4_raw', 'Pcp4_high_pass', 'Anti-SETBP1_raw', 'Anti-SETBP1_high_pass', 'hSETBP1_raw', 'hSETBP1_high_pass', 'PolyT_raw', 'PolyT_high_pass', 'n_genes_by_counts', 'log1p_n_genes_by_counts', 'total_counts', 'log1p_total_counts', 'pct_counts_in_top_50_genes', 'pct_counts_in_top_100_genes', 'pct_counts_in_top_200_genes', 'pct_counts_in_top_300_genes', 'n_counts', 'leiden'\n",
      "    var: 'n_cells_by_counts', 'mean_counts', 'log1p_mean_counts', 'pct_dropout_by_counts', 'total_counts', 'log1p_total_counts', 'n_cells', 'mean', 'std'\n",
      "    uns: 'leiden', 'leiden_colors', 'leiden_nhood_enrichment', 'log1p', 'moranI', 'neighbors', 'pca', 'spatial', 'spatial_neighbors', 'umap'\n",
      "    obsm: 'X_pca', 'X_umap', 'blank_genes', 'spatial'\n",
      "    varm: 'PCs'\n",
      "    obsp: 'connectivities', 'distances', 'spatial_connectivities', 'spatial_distances'\n",
      "Library ID: library\n",
      "Loading cell boundaries...\n",
      "Loaded boundaries: 319081 cells\n",
      "Successfully restored cell boundaries to AnnData object.\n",
      "Boundaries columns: ['ID', 'EntityID', 'ZIndex', 'Geometry', 'ParentType', 'ParentID', 'Type', 'ZLevel', 'Name']\n",
      "Boundaries geometry type: MultiPolygon\n",
      "\n",
      "Data loading complete! The loaded AnnData object now contains:\n",
      "- 30084 cells\n",
      "- 960 genes\n",
      "- Spatial information: Yes\n",
      "- Cell boundaries: Yes (319081 cells)\n"
     ]
    }
   ],
   "source": [
    "print(\"=\" * 50)\n",
    "print(\"Loading saved data back\")\n",
    "print(\"=\" * 50)\n",
    "\n",
    "# Load the AnnData object\n",
    "print(\"Loading AnnData object...\")\n",
    "adata = sc.read_h5ad(os.path.join(results_dir, \"squidpy_adata_1.h5ad\"))\n",
    "print(f\"Loaded AnnData object: {adata}\")\n",
    "\n",
    "# Get the library_id from the loaded data\n",
    "try:\n",
    "    library_id_loaded = list(adata.uns['spatial'].keys())[0]\n",
    "    print(f\"Library ID: {library_id_loaded}\")\n",
    "except (KeyError, IndexError):\n",
    "    print(\"No spatial information found in loaded data.\")\n",
    "    library_id_loaded = None\n",
    "\n",
    "# Load the cell boundaries back\n",
    "boundaries_path = os.path.join(results_dir, \"cell_boundaries.parquet\")\n",
    "if os.path.exists(boundaries_path):\n",
    "    print(\"Loading cell boundaries...\")\n",
    "    boundaries_loaded = gpd.read_parquet(boundaries_path)\n",
    "    print(f\"Loaded boundaries: {boundaries_loaded.shape[0]} cells\")\n",
    "    \n",
    "    # Add the boundaries back to the spatial metadata\n",
    "    if library_id_loaded:\n",
    "        adata.uns['spatial'][library_id_loaded]['segmentations'] = boundaries_loaded\n",
    "        print(\"Successfully restored cell boundaries to AnnData object.\")\n",
    "    \n",
    "    # Verify the boundaries are properly loaded\n",
    "    print(f\"Boundaries columns: {list(boundaries_loaded.columns)}\")\n",
    "    print(f\"Boundaries geometry type: {boundaries_loaded.geometry.geom_type.iloc[0]}\")\n",
    "else:\n",
    "    print(f\"Cell boundaries file not found at: {boundaries_path}\")\n",
    "\n",
    "print(\"\\nData loading complete! The loaded AnnData object now contains:\")\n",
    "print(f\"- {adata.n_obs} cells\")\n",
    "print(f\"- {adata.n_vars} genes\")\n",
    "print(f\"- Spatial information: {'Yes' if 'spatial' in adata.uns else 'No'}\")\n",
    "if library_id_loaded and 'segmentations' in adata.uns['spatial'][library_id_loaded]:\n",
    "    print(f\"- Cell boundaries: Yes ({adata.uns['spatial'][library_id_loaded]['segmentations'].shape[0]} cells)\")\n",
    "else:\n",
    "    print(\"- Cell boundaries: No\")"
   ]
  },
  {
   "cell_type": "markdown",
   "id": "3b293a5e",
   "metadata": {},
   "source": [
    "## Gene Set Scoring on Spatial Grid"
   ]
  },
  {
   "cell_type": "markdown",
   "id": "dcc32ccf",
   "metadata": {},
   "source": [
    "### Load and Parse Gene Lists"
   ]
  },
  {
   "cell_type": "code",
   "execution_count": 5,
   "id": "355bc18d",
   "metadata": {
    "lines_to_next_cell": 1
   },
   "outputs": [
    {
     "name": "stdout",
     "output_type": "stream",
     "text": [
      "Loaded gene sets:\n",
      "  Epilepsy: 104 genes\n",
      "    First 5 genes: ['Alg13', 'Ankrd11', 'Arfgef1', 'Arhgef9', 'Arid1B']\n",
      "  SETBP1_related: 48 genes\n",
      "    First 5 genes: ['Akt2', 'Bcl6', 'Bmp5', 'Cdc37', 'Cdkn1b']\n"
     ]
    }
   ],
   "source": [
    "def parse_gene_lists(file_path: str) -> Dict[str, List[str]]:\n",
    "    \"\"\"\n",
    "    Parse gene lists from CSV file.\n",
    "    Expected format: First row contains gene set names as headers,\n",
    "    followed by genes in columns below each header.\n",
    "    \"\"\"    \n",
    "    gene_sets = {}\n",
    "    \n",
    "    # Read the CSV file using pandas\n",
    "    df = pd.read_csv(file_path)\n",
    "    \n",
    "    # Get column names (gene set names)\n",
    "    gene_set_names = df.columns.tolist()\n",
    "    \n",
    "    # Extract genes for each gene set\n",
    "    for col_name in gene_set_names:\n",
    "        # Get all non-null values from this column\n",
    "        genes = df[col_name].dropna().tolist()\n",
    "        \n",
    "        # Clean gene names (remove any whitespace)\n",
    "        genes = [str(gene).strip() for gene in genes if str(gene).strip()]\n",
    "        \n",
    "        # Clean gene set name for use as key\n",
    "        clean_name = re.sub(r'[^a-zA-Z0-9_]', '_', col_name)\n",
    "        gene_sets[clean_name] = genes\n",
    "    \n",
    "    return gene_sets\n",
    "\n",
    "# Load gene lists\n",
    "gene_list_path = \"./GENE_LISTS/input/bp_others.csv\"\n",
    "gene_sets = parse_gene_lists(gene_list_path)\n",
    "\n",
    "print(\"Loaded gene sets:\")\n",
    "for set_name, genes in gene_sets.items():\n",
    "    print(f\"  {set_name}: {len(genes)} genes\")\n",
    "    print(f\"    First 5 genes: {genes[:5]}\")"
   ]
  },
  {
   "cell_type": "markdown",
   "id": "5b5bd8a2",
   "metadata": {},
   "source": [
    "### Create Spatial Grid"
   ]
  },
  {
   "cell_type": "code",
   "execution_count": 6,
   "id": "cdb775c7",
   "metadata": {
    "lines_to_next_cell": 1
   },
   "outputs": [
    {
     "name": "stdout",
     "output_type": "stream",
     "text": [
      "Creating 40x40 spatial grid...\n",
      "Grid created. Cells distributed across 1195 grid positions.\n"
     ]
    }
   ],
   "source": [
    "def create_spatial_grid(adata, grid_size=(40, 40)):\n",
    "    \"\"\"\n",
    "    Create a spatial grid and assign each cell to a grid position.\n",
    "    \"\"\"\n",
    "    # Get spatial coordinates\n",
    "    spatial_coords = adata.obsm['spatial']\n",
    "    \n",
    "    # Calculate grid boundaries\n",
    "    x_min, x_max = spatial_coords[:, 0].min(), spatial_coords[:, 0].max()\n",
    "    y_min, y_max = spatial_coords[:, 1].min(), spatial_coords[:, 1].max()\n",
    "    \n",
    "    # Create grid\n",
    "    x_bins = np.linspace(x_min, x_max, grid_size[0] + 1)\n",
    "    y_bins = np.linspace(y_min, y_max, grid_size[1] + 1)\n",
    "    \n",
    "    # Assign cells to grid positions\n",
    "    x_indices = np.digitize(spatial_coords[:, 0], x_bins) - 1\n",
    "    y_indices = np.digitize(spatial_coords[:, 1], y_bins) - 1\n",
    "    \n",
    "    # Ensure indices are within bounds\n",
    "    x_indices = np.clip(x_indices, 0, grid_size[0] - 1)\n",
    "    y_indices = np.clip(y_indices, 0, grid_size[1] - 1)\n",
    "    \n",
    "    # Create grid identifiers\n",
    "    grid_ids = x_indices * grid_size[1] + y_indices\n",
    "    \n",
    "    # Add to adata\n",
    "    adata.obs['grid_x'] = x_indices\n",
    "    adata.obs['grid_y'] = y_indices\n",
    "    adata.obs['grid_id'] = grid_ids\n",
    "    \n",
    "    return x_bins, y_bins\n",
    "\n",
    "# Create spatial grid\n",
    "print(\"Creating 40x40 spatial grid...\")\n",
    "x_bins, y_bins = create_spatial_grid(adata, grid_size=(40, 40))\n",
    "print(f\"Grid created. Cells distributed across {adata.obs['grid_id'].nunique()} grid positions.\")"
   ]
  },
  {
   "cell_type": "markdown",
   "id": "c05c80c4",
   "metadata": {},
   "source": [
    "### Perform Gene Set Scoring per Grid Cell"
   ]
  },
  {
   "cell_type": "code",
   "execution_count": 7,
   "id": "c5a88e21",
   "metadata": {
    "lines_to_next_cell": 1
   },
   "outputs": [
    {
     "name": "stdout",
     "output_type": "stream",
     "text": [
      "Performing gene set scoring per grid cell...\n",
      "Scoring gene set: Epilepsy\n",
      "  Available genes: 86/104\n",
      "  Missing genes: ['Arid1B', 'Atp1A1', 'Atp1A2', 'Atp1A3', 'Atp6V0A1', 'Atp6V1A', 'Cacna1A', 'Cacna1B', 'Cacna1C', 'Cacna2D2']...\n",
      "Scoring gene set: SETBP1_related\n",
      "  Available genes: 48/48\n"
     ]
    }
   ],
   "source": [
    "def score_gene_sets_per_grid(adata, gene_sets, grid_size=(40, 40)):\n",
    "    \"\"\"\n",
    "    Score gene sets for each grid cell.\n",
    "    \"\"\"\n",
    "    # Create a copy of adata for scoring\n",
    "    adata_scoring = adata.copy()\n",
    "    \n",
    "    # Results storage\n",
    "    grid_scores = {}\n",
    "    \n",
    "    for set_name, genes in gene_sets.items():\n",
    "        print(f\"Scoring gene set: {set_name}\")\n",
    "        \n",
    "        # Filter genes that exist in the dataset\n",
    "        available_genes = [g for g in genes if g in adata_scoring.var_names]\n",
    "        missing_genes = [g for g in genes if g not in adata_scoring.var_names]\n",
    "        \n",
    "        print(f\"  Available genes: {len(available_genes)}/{len(genes)}\")\n",
    "        if missing_genes:\n",
    "            print(f\"  Missing genes: {missing_genes[:10]}{'...' if len(missing_genes) > 10 else ''}\")\n",
    "        \n",
    "        if len(available_genes) == 0:\n",
    "            print(f\"  Skipping {set_name} - no genes found in dataset\")\n",
    "            continue\n",
    "        \n",
    "        # Score gene set using scanpy\n",
    "        sc.tl.score_genes(adata_scoring, available_genes, score_name=f'{set_name}_score')\n",
    "        \n",
    "        # Calculate mean score per grid cell\n",
    "        grid_scores_for_set = []\n",
    "        grid_positions = []\n",
    "        \n",
    "        for grid_id in range(grid_size[0] * grid_size[1]):\n",
    "            cells_in_grid = adata_scoring.obs['grid_id'] == grid_id\n",
    "            \n",
    "            if cells_in_grid.sum() > 0:\n",
    "                mean_score = adata_scoring.obs.loc[cells_in_grid, f'{set_name}_score'].mean()\n",
    "                grid_scores_for_set.append(mean_score)\n",
    "            else:\n",
    "                grid_scores_for_set.append(np.nan)\n",
    "            \n",
    "            # Calculate grid position\n",
    "            x_pos = grid_id // grid_size[1]\n",
    "            y_pos = grid_id % grid_size[1]\n",
    "            grid_positions.append((x_pos, y_pos))\n",
    "        \n",
    "        grid_scores[set_name] = {\n",
    "            'scores': np.array(grid_scores_for_set),\n",
    "            'positions': grid_positions\n",
    "        }\n",
    "    \n",
    "    return grid_scores\n",
    "\n",
    "# Perform gene set scoring\n",
    "print(\"Performing gene set scoring per grid cell...\")\n",
    "grid_scores = score_gene_sets_per_grid(adata, gene_sets, grid_size=(40, 40))"
   ]
  },
  {
   "cell_type": "markdown",
   "id": "6ab78ca5",
   "metadata": {},
   "source": [
    "### Visualize Gene Set Scores on Spatial Grid"
   ]
  },
  {
   "cell_type": "code",
   "execution_count": 8,
   "id": "8a2ee0ba",
   "metadata": {},
   "outputs": [
    {
     "name": "stdout",
     "output_type": "stream",
     "text": [
      "Saved spatial gene set scores plot to ./DATA/p0-p7/R1/analysis_results\n"
     ]
    },
    {
     "data": {
      "image/png": "[encoded data removed]",
      "text/plain": [
       "<Figure size 1000x400 with 4 Axes>"
      ]
     },
     "metadata": {},
     "output_type": "display_data"
    }
   ],
   "source": [
    "def plot_grid_scores(grid_scores, grid_size=(40, 40), save_dir=None):\n",
    "    \"\"\"\n",
    "    Plot gene set scores as heatmaps on the spatial grid.\n",
    "    \"\"\"\n",
    "    n_sets = len(grid_scores)\n",
    "    if n_sets == 0:\n",
    "        print(\"No gene sets to plot\")\n",
    "        return\n",
    "    \n",
    "    # Calculate subplot layout\n",
    "    n_cols = min(3, n_sets)\n",
    "    n_rows = (n_sets + n_cols - 1) // n_cols\n",
    "    \n",
    "    fig, axes = plt.subplots(n_rows, n_cols, figsize=(5 * n_cols, 4 * n_rows))\n",
    "    \n",
    "    # Handle different cases for axes indexing\n",
    "    if n_sets == 1:\n",
    "        axes = [axes]  # Single subplot case\n",
    "    elif n_rows == 1:\n",
    "        # Single row case - axes is already a 1D array\n",
    "        pass\n",
    "    else:\n",
    "        # Multiple rows case - axes is already a 2D array\n",
    "        pass\n",
    "    \n",
    "    for idx, (set_name, data) in enumerate(grid_scores.items()):\n",
    "        row = idx // n_cols\n",
    "        col = idx % n_cols\n",
    "        \n",
    "        # Get the correct axis based on the layout\n",
    "        if n_sets == 1:\n",
    "            ax = axes[0]\n",
    "        elif n_rows == 1:\n",
    "            ax = axes[col]\n",
    "        else:\n",
    "            ax = axes[row, col]\n",
    "        \n",
    "        # Reshape scores to grid\n",
    "        score_grid = data['scores'].reshape(grid_size)\n",
    "        \n",
    "        # Create heatmap\n",
    "        im = ax.imshow(score_grid, cmap='viridis', aspect='equal', origin='lower')\n",
    "        ax.set_title(f'{set_name}\\nGene Set Score')\n",
    "        ax.set_xlabel('Grid X')\n",
    "        ax.set_ylabel('Grid Y')\n",
    "        \n",
    "        # Add colorbar\n",
    "        plt.colorbar(im, ax=ax, shrink=0.8)\n",
    "    \n",
    "    # Hide empty subplots\n",
    "    for idx in range(n_sets, n_rows * n_cols):\n",
    "        row = idx // n_cols\n",
    "        col = idx % n_cols\n",
    "        \n",
    "        # Get the correct axis for hiding\n",
    "        if n_sets == 1:\n",
    "            continue  # No empty subplots in single plot case\n",
    "        elif n_rows == 1:\n",
    "            ax = axes[col]\n",
    "        else:\n",
    "            ax = axes[row, col]\n",
    "        ax.set_visible(False)\n",
    "    \n",
    "    plt.tight_layout()\n",
    "    \n",
    "    if save_dir:\n",
    "        plt.savefig(os.path.join(save_dir, \"spatial_gene_set_scores.png\"), dpi=300, bbox_inches='tight')\n",
    "        print(f\"Saved spatial gene set scores plot to {save_dir}\")\n",
    "    \n",
    "    plt.show()\n",
    "\n",
    "# Plot results\n",
    "plot_grid_scores(grid_scores, grid_size=(40, 40), save_dir=results_dir)"
   ]
  },
  {
   "cell_type": "markdown",
   "id": "b5c19d69",
   "metadata": {},
   "source": [
    "### Save Results"
   ]
  },
  {
   "cell_type": "code",
   "execution_count": 9,
   "id": "462d0380",
   "metadata": {
    "lines_to_next_cell": 3
   },
   "outputs": [
    {
     "name": "stdout",
     "output_type": "stream",
     "text": [
      "Saved Epilepsy grid scores to ./DATA/p0-p7/R1/analysis_results/grid_scores_Epilepsy.csv\n",
      "Saved SETBP1_related grid scores to ./DATA/p0-p7/R1/analysis_results/grid_scores_SETBP1_related.csv\n",
      "Saved summary statistics to ./DATA/p0-p7/R1/analysis_results/gene_set_scoring_summary.csv\n",
      "\n",
      "Spatial gene set scoring analysis complete!\n",
      "Results saved in the 'analysis_results' directory:\n",
      "- spatial_gene_set_scores.png: Heatmap visualization\n",
      "- grid_scores_*.csv: Individual gene set scores per grid cell\n",
      "- gene_set_scoring_summary.csv: Summary statistics\n"
     ]
    }
   ],
   "source": [
    "# Save grid scores to CSV\n",
    "for set_name, data in grid_scores.items():\n",
    "    # Create DataFrame with grid positions and scores\n",
    "    df = pd.DataFrame({\n",
    "        'grid_x': [pos[0] for pos in data['positions']],\n",
    "        'grid_y': [pos[1] for pos in data['positions']],\n",
    "        'score': data['scores']\n",
    "    })\n",
    "    \n",
    "    # Save to CSV\n",
    "    output_file = os.path.join(results_dir, f\"grid_scores_{set_name}.csv\")\n",
    "    df.to_csv(output_file, index=False)\n",
    "    print(f\"Saved {set_name} grid scores to {output_file}\")\n",
    "\n",
    "# Save summary statistics\n",
    "summary_stats = []\n",
    "for set_name, data in grid_scores.items():\n",
    "    scores = data['scores']\n",
    "    valid_scores = scores[~np.isnan(scores)]\n",
    "    \n",
    "    if len(valid_scores) > 0:\n",
    "        stats = {\n",
    "            'gene_set': set_name,\n",
    "            'n_grid_cells': len(valid_scores),\n",
    "            'mean_score': np.mean(valid_scores),\n",
    "            'std_score': np.std(valid_scores),\n",
    "            'min_score': np.min(valid_scores),\n",
    "            'max_score': np.max(valid_scores)\n",
    "        }\n",
    "        summary_stats.append(stats)\n",
    "\n",
    "summary_df = pd.DataFrame(summary_stats)\n",
    "summary_file = os.path.join(results_dir, \"gene_set_scoring_summary.csv\")\n",
    "summary_df.to_csv(summary_file, index=False)\n",
    "print(f\"Saved summary statistics to {summary_file}\")\n",
    "\n",
    "print(\"\\nSpatial gene set scoring analysis complete!\")\n",
    "print(\"Results saved in the 'analysis_results' directory:\")\n",
    "print(\"- spatial_gene_set_scores.png: Heatmap visualization\")\n",
    "print(\"- grid_scores_*.csv: Individual gene set scores per grid cell\")\n",
    "print(\"- gene_set_scoring_summary.csv: Summary statistics\")"
   ]
  }
 ],
 "metadata": {
  "jupytext": {
   "cell_metadata_filter": "-all",
   "main_language": "python",
   "notebook_metadata_filter": "-all"
  },
  "kernelspec": {
   "display_name": "Python 3 (ipykernel)",
   "language": "python",
   "name": "python3"
  }
 },
 "nbformat": 4,
 "nbformat_minor": 5
}
