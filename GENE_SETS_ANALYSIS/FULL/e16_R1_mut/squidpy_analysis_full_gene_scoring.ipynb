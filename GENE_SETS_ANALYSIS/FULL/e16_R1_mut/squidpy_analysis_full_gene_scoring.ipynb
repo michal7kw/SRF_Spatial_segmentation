{
 "cells": [
  {
   "cell_type": "markdown",
   "id": "c04b1bd8",
   "metadata": {},
   "source": [
    "# Spatial Gene Set Scoring"
   ]
  },
  {
   "cell_type": "markdown",
   "id": "fa169008",
   "metadata": {},
   "source": [
    "## 1. Imports"
   ]
  },
  {
   "cell_type": "code",
   "execution_count": null,
   "id": "6fb1dba6",
   "metadata": {},
   "outputs": [],
   "source": [
    "import numpy as np\n",
    "import pandas as pd\n",
    "from pathlib import Path\n",
    "import shutil\n",
    "import os\n",
    "from matplotlib import pyplot as plt\n",
    "import seaborn as sns\n",
    "import re\n",
    "from typing import Dict, List\n",
    "\n",
    "import scanpy as sc\n",
    "import squidpy as sq\n",
    "import geopandas as gpd"
   ]
  },
  {
   "cell_type": "markdown",
   "id": "5852da98",
   "metadata": {},
   "source": [
    "## 2. Setup"
   ]
  },
  {
   "cell_type": "code",
   "execution_count": null,
   "id": "c1876953",
   "metadata": {},
   "outputs": [],
   "source": [
    "os.chdir(\"/beegfs/scratch/ric.sessa/kubacki.michal/SRF_Linda/SRF_Spatial_segmentation\")"
   ]
  },
  {
   "cell_type": "markdown",
   "id": "c9b01f01",
   "metadata": {},
   "source": [
    "## 3. Load Data"
   ]
  },
  {
   "cell_type": "code",
   "execution_count": null,
   "id": "fbf2ec51",
   "metadata": {},
   "outputs": [],
   "source": [
    "data_dir = \"./DATA/p30-E165/R1\"\n",
    "# Create a directory to save the results\n",
    "results_dir = os.path.join(data_dir, \"analysis_results\")\n",
    "os.makedirs(results_dir, exist_ok=True)"
   ]
  },
  {
   "cell_type": "markdown",
   "id": "ddd6cefe",
   "metadata": {},
   "source": [
    "## Loading Saved Data Back\n",
    "\n",
    "Load the saved AnnData object and cell boundaries back into memory."
   ]
  },
  {
   "cell_type": "code",
   "execution_count": null,
   "id": "c60b7cdb",
   "metadata": {
    "lines_to_next_cell": 1
   },
   "outputs": [],
   "source": [
    "print(\"=\" * 50)\n",
    "print(\"Loading saved data back\")\n",
    "print(\"=\" * 50)\n",
    "\n",
    "# Load the AnnData object\n",
    "print(\"Loading AnnData object...\")\n",
    "adata = sc.read_h5ad(os.path.join(results_dir, \"squidpy_adata_1.h5ad\"))\n",
    "print(f\"Loaded AnnData object: {adata}\")\n",
    "\n",
    "# Get the library_id from the loaded data\n",
    "try:\n",
    "    library_id_loaded = list(adata.uns['spatial'].keys())[0]\n",
    "    print(f\"Library ID: {library_id_loaded}\")\n",
    "except (KeyError, IndexError):\n",
    "    print(\"No spatial information found in loaded data.\")\n",
    "    library_id_loaded = None\n",
    "\n",
    "# Load the cell boundaries back\n",
    "boundaries_path = os.path.join(results_dir, \"cell_boundaries.parquet\")\n",
    "if os.path.exists(boundaries_path):\n",
    "    print(\"Loading cell boundaries...\")\n",
    "    boundaries_loaded = gpd.read_parquet(boundaries_path)\n",
    "    print(f\"Loaded boundaries: {boundaries_loaded.shape[0]} cells\")\n",
    "    \n",
    "    # Add the boundaries back to the spatial metadata\n",
    "    if library_id_loaded:\n",
    "        adata.uns['spatial'][library_id_loaded]['segmentations'] = boundaries_loaded\n",
    "        print(\"Successfully restored cell boundaries to AnnData object.\")\n",
    "    \n",
    "    # Verify the boundaries are properly loaded\n",
    "    print(f\"Boundaries columns: {list(boundaries_loaded.columns)}\")\n",
    "    print(f\"Boundaries geometry type: {boundaries_loaded.geometry.geom_type.iloc[0]}\")\n",
    "else:\n",
    "    print(f\"Cell boundaries file not found at: {boundaries_path}\")\n",
    "\n",
    "print(\"\\nData loading complete! The loaded AnnData object now contains:\")\n",
    "print(f\"- {adata.n_obs} cells\")\n",
    "print(f\"- {adata.n_vars} genes\")\n",
    "print(f\"- Spatial information: {'Yes' if 'spatial' in adata.uns else 'No'}\")\n",
    "if library_id_loaded and 'segmentations' in adata.uns['spatial'][library_id_loaded]:\n",
    "    print(f\"- Cell boundaries: Yes ({adata.uns['spatial'][library_id_loaded]['segmentations'].shape[0]} cells)\")\n",
    "else:\n",
    "    print(\"- Cell boundaries: No\")"
   ]
  },
  {
   "cell_type": "markdown",
   "id": "c3bd7164",
   "metadata": {},
   "source": [
    "## Gene Set Scoring on Spatial Grid"
   ]
  },
  {
   "cell_type": "markdown",
   "id": "48536287",
   "metadata": {},
   "source": [
    "### Load and Parse Gene Lists"
   ]
  },
  {
   "cell_type": "code",
   "execution_count": null,
   "id": "e00c3225",
   "metadata": {
    "lines_to_next_cell": 1
   },
   "outputs": [],
   "source": [
    "def parse_gene_lists(file_path: str) -> Dict[str, List[str]]:\n",
    "    \"\"\"\n",
    "    Parse gene lists from CSV file.\n",
    "    Expected format: First row contains gene set names as headers,\n",
    "    followed by genes in columns below each header.\n",
    "    \"\"\"    \n",
    "    gene_sets = {}\n",
    "    \n",
    "    # Read the CSV file using pandas\n",
    "    df = pd.read_csv(file_path)\n",
    "    \n",
    "    # Get column names (gene set names)\n",
    "    gene_set_names = df.columns.tolist()\n",
    "    \n",
    "    # Extract genes for each gene set\n",
    "    for col_name in gene_set_names:\n",
    "        # Get all non-null values from this column\n",
    "        genes = df[col_name].dropna().tolist()\n",
    "        \n",
    "        # Clean gene names (remove any whitespace)\n",
    "        genes = [str(gene).strip() for gene in genes if str(gene).strip()]\n",
    "        \n",
    "        # Clean gene set name for use as key\n",
    "        clean_name = re.sub(r'[^a-zA-Z0-9_]', '_', col_name)\n",
    "        gene_sets[clean_name] = genes\n",
    "    \n",
    "    return gene_sets\n",
    "\n",
    "# Load gene lists\n",
    "gene_list_path = \"./GENE_LISTS/input/bp_others.csv\"\n",
    "gene_sets = parse_gene_lists(gene_list_path)\n",
    "\n",
    "print(\"Loaded gene sets:\")\n",
    "for set_name, genes in gene_sets.items():\n",
    "    print(f\"  {set_name}: {len(genes)} genes\")\n",
    "    print(f\"    First 5 genes: {genes[:5]}\")"
   ]
  },
  {
   "cell_type": "markdown",
   "id": "c02e6406",
   "metadata": {},
   "source": [
    "### Create Spatial Grid"
   ]
  },
  {
   "cell_type": "code",
   "execution_count": null,
   "id": "eb2d985c",
   "metadata": {
    "lines_to_next_cell": 1
   },
   "outputs": [],
   "source": [
    "def create_spatial_grid(adata, grid_size=(40, 40)):\n",
    "    \"\"\"\n",
    "    Create a spatial grid and assign each cell to a grid position.\n",
    "    \"\"\"\n",
    "    # Get spatial coordinates\n",
    "    spatial_coords = adata.obsm['spatial']\n",
    "    \n",
    "    # Calculate grid boundaries\n",
    "    x_min, x_max = spatial_coords[:, 0].min(), spatial_coords[:, 0].max()\n",
    "    y_min, y_max = spatial_coords[:, 1].min(), spatial_coords[:, 1].max()\n",
    "    \n",
    "    # Create grid\n",
    "    x_bins = np.linspace(x_min, x_max, grid_size[0] + 1)\n",
    "    y_bins = np.linspace(y_min, y_max, grid_size[1] + 1)\n",
    "    \n",
    "    # Assign cells to grid positions\n",
    "    x_indices = np.digitize(spatial_coords[:, 0], x_bins) - 1\n",
    "    y_indices = np.digitize(spatial_coords[:, 1], y_bins) - 1\n",
    "    \n",
    "    # Ensure indices are within bounds\n",
    "    x_indices = np.clip(x_indices, 0, grid_size[0] - 1)\n",
    "    y_indices = np.clip(y_indices, 0, grid_size[1] - 1)\n",
    "    \n",
    "    # Create grid identifiers\n",
    "    grid_ids = x_indices * grid_size[1] + y_indices\n",
    "    \n",
    "    # Add to adata\n",
    "    adata.obs['grid_x'] = x_indices\n",
    "    adata.obs['grid_y'] = y_indices\n",
    "    adata.obs['grid_id'] = grid_ids\n",
    "    \n",
    "    return x_bins, y_bins\n",
    "\n",
    "# Create spatial grid\n",
    "print(\"Creating 40x40 spatial grid...\")\n",
    "x_bins, y_bins = create_spatial_grid(adata, grid_size=(40, 40))\n",
    "print(f\"Grid created. Cells distributed across {adata.obs['grid_id'].nunique()} grid positions.\")"
   ]
  },
  {
   "cell_type": "markdown",
   "id": "8eb58abb",
   "metadata": {},
   "source": [
    "### Perform Gene Set Scoring per Grid Cell"
   ]
  },
  {
   "cell_type": "code",
   "execution_count": null,
   "id": "e3113e2c",
   "metadata": {
    "lines_to_next_cell": 1
   },
   "outputs": [],
   "source": [
    "def score_gene_sets_per_grid(adata, gene_sets, grid_size=(40, 40)):\n",
    "    \"\"\"\n",
    "    Score gene sets for each grid cell.\n",
    "    \"\"\"\n",
    "    # Create a copy of adata for scoring\n",
    "    adata_scoring = adata.copy()\n",
    "    \n",
    "    # Results storage\n",
    "    grid_scores = {}\n",
    "    \n",
    "    for set_name, genes in gene_sets.items():\n",
    "        print(f\"Scoring gene set: {set_name}\")\n",
    "        \n",
    "        # Filter genes that exist in the dataset\n",
    "        available_genes = [g for g in genes if g in adata_scoring.var_names]\n",
    "        missing_genes = [g for g in genes if g not in adata_scoring.var_names]\n",
    "        \n",
    "        print(f\"  Available genes: {len(available_genes)}/{len(genes)}\")\n",
    "        if missing_genes:\n",
    "            print(f\"  Missing genes: {missing_genes[:10]}{'...' if len(missing_genes) > 10 else ''}\")\n",
    "        \n",
    "        if len(available_genes) == 0:\n",
    "            print(f\"  Skipping {set_name} - no genes found in dataset\")\n",
    "            continue\n",
    "        \n",
    "        # Score gene set using scanpy\n",
    "        sc.tl.score_genes(adata_scoring, available_genes, score_name=f'{set_name}_score')\n",
    "        \n",
    "        # Calculate mean score per grid cell\n",
    "        grid_scores_for_set = []\n",
    "        grid_positions = []\n",
    "        \n",
    "        for grid_id in range(grid_size[0] * grid_size[1]):\n",
    "            cells_in_grid = adata_scoring.obs['grid_id'] == grid_id\n",
    "            \n",
    "            if cells_in_grid.sum() > 0:\n",
    "                mean_score = adata_scoring.obs.loc[cells_in_grid, f'{set_name}_score'].mean()\n",
    "                grid_scores_for_set.append(mean_score)\n",
    "            else:\n",
    "                grid_scores_for_set.append(np.nan)\n",
    "            \n",
    "            # Calculate grid position\n",
    "            x_pos = grid_id // grid_size[1]\n",
    "            y_pos = grid_id % grid_size[1]\n",
    "            grid_positions.append((x_pos, y_pos))\n",
    "        \n",
    "        grid_scores[set_name] = {\n",
    "            'scores': np.array(grid_scores_for_set),\n",
    "            'positions': grid_positions\n",
    "        }\n",
    "    \n",
    "    return grid_scores\n",
    "\n",
    "# Perform gene set scoring\n",
    "print(\"Performing gene set scoring per grid cell...\")\n",
    "grid_scores = score_gene_sets_per_grid(adata, gene_sets, grid_size=(40, 40))"
   ]
  },
  {
   "cell_type": "markdown",
   "id": "49eabc39",
   "metadata": {},
   "source": [
    "### Visualize Gene Set Scores on Spatial Grid"
   ]
  },
  {
   "cell_type": "code",
   "execution_count": null,
   "id": "3c7d6de8",
   "metadata": {},
   "outputs": [],
   "source": [
    "def plot_grid_scores(grid_scores, grid_size=(40, 40), save_dir=None):\n",
    "    \"\"\"\n",
    "    Plot gene set scores as heatmaps on the spatial grid.\n",
    "    \"\"\"\n",
    "    n_sets = len(grid_scores)\n",
    "    if n_sets == 0:\n",
    "        print(\"No gene sets to plot\")\n",
    "        return\n",
    "    \n",
    "    # Calculate subplot layout\n",
    "    n_cols = min(3, n_sets)\n",
    "    n_rows = (n_sets + n_cols - 1) // n_cols\n",
    "    \n",
    "    fig, axes = plt.subplots(n_rows, n_cols, figsize=(5 * n_cols, 4 * n_rows))\n",
    "    \n",
    "    # Handle different cases for axes indexing\n",
    "    if n_sets == 1:\n",
    "        axes = [axes]  # Single subplot case\n",
    "    elif n_rows == 1:\n",
    "        # Single row case - axes is already a 1D array\n",
    "        pass\n",
    "    else:\n",
    "        # Multiple rows case - axes is already a 2D array\n",
    "        pass\n",
    "    \n",
    "    for idx, (set_name, data) in enumerate(grid_scores.items()):\n",
    "        row = idx // n_cols\n",
    "        col = idx % n_cols\n",
    "        \n",
    "        # Get the correct axis based on the layout\n",
    "        if n_sets == 1:\n",
    "            ax = axes[0]\n",
    "        elif n_rows == 1:\n",
    "            ax = axes[col]\n",
    "        else:\n",
    "            ax = axes[row, col]\n",
    "        \n",
    "        # Reshape scores to grid\n",
    "        score_grid = data['scores'].reshape(grid_size)\n",
    "        \n",
    "        # Create heatmap\n",
    "        im = ax.imshow(score_grid, cmap='viridis', aspect='equal', origin='lower')\n",
    "        ax.set_title(f'{set_name}\\nGene Set Score')\n",
    "        ax.set_xlabel('Grid X')\n",
    "        ax.set_ylabel('Grid Y')\n",
    "        \n",
    "        # Add colorbar\n",
    "        plt.colorbar(im, ax=ax, shrink=0.8)\n",
    "    \n",
    "    # Hide empty subplots\n",
    "    for idx in range(n_sets, n_rows * n_cols):\n",
    "        row = idx // n_cols\n",
    "        col = idx % n_cols\n",
    "        \n",
    "        # Get the correct axis for hiding\n",
    "        if n_sets == 1:\n",
    "            continue  # No empty subplots in single plot case\n",
    "        elif n_rows == 1:\n",
    "            ax = axes[col]\n",
    "        else:\n",
    "            ax = axes[row, col]\n",
    "        ax.set_visible(False)\n",
    "    \n",
    "    plt.tight_layout()\n",
    "    \n",
    "    if save_dir:\n",
    "        plt.savefig(os.path.join(save_dir, \"spatial_gene_set_scores.png\"), dpi=300, bbox_inches='tight')\n",
    "        print(f\"Saved spatial gene set scores plot to {save_dir}\")\n",
    "    \n",
    "    plt.show()\n",
    "\n",
    "# Plot results\n",
    "plot_grid_scores(grid_scores, grid_size=(40, 40), save_dir=results_dir)"
   ]
  },
  {
   "cell_type": "markdown",
   "id": "ede6c2e0",
   "metadata": {},
   "source": [
    "### Save Results"
   ]
  },
  {
   "cell_type": "code",
   "execution_count": null,
   "id": "6a09bfe8",
   "metadata": {
    "lines_to_next_cell": 3
   },
   "outputs": [],
   "source": [
    "# Save grid scores to CSV\n",
    "for set_name, data in grid_scores.items():\n",
    "    # Create DataFrame with grid positions and scores\n",
    "    df = pd.DataFrame({\n",
    "        'grid_x': [pos[0] for pos in data['positions']],\n",
    "        'grid_y': [pos[1] for pos in data['positions']],\n",
    "        'score': data['scores']\n",
    "    })\n",
    "    \n",
    "    # Save to CSV\n",
    "    output_file = os.path.join(results_dir, f\"grid_scores_{set_name}.csv\")\n",
    "    df.to_csv(output_file, index=False)\n",
    "    print(f\"Saved {set_name} grid scores to {output_file}\")\n",
    "\n",
    "# Save summary statistics\n",
    "summary_stats = []\n",
    "for set_name, data in grid_scores.items():\n",
    "    scores = data['scores']\n",
    "    valid_scores = scores[~np.isnan(scores)]\n",
    "    \n",
    "    if len(valid_scores) > 0:\n",
    "        stats = {\n",
    "            'gene_set': set_name,\n",
    "            'n_grid_cells': len(valid_scores),\n",
    "            'mean_score': np.mean(valid_scores),\n",
    "            'std_score': np.std(valid_scores),\n",
    "            'min_score': np.min(valid_scores),\n",
    "            'max_score': np.max(valid_scores)\n",
    "        }\n",
    "        summary_stats.append(stats)\n",
    "\n",
    "summary_df = pd.DataFrame(summary_stats)\n",
    "summary_file = os.path.join(results_dir, \"gene_set_scoring_summary.csv\")\n",
    "summary_df.to_csv(summary_file, index=False)\n",
    "print(f\"Saved summary statistics to {summary_file}\")\n",
    "\n",
    "print(\"\\nSpatial gene set scoring analysis complete!\")\n",
    "print(\"Results saved in the 'analysis_results' directory:\")\n",
    "print(\"- spatial_gene_set_scores.png: Heatmap visualization\")\n",
    "print(\"- grid_scores_*.csv: Individual gene set scores per grid cell\")\n",
    "print(\"- gene_set_scoring_summary.csv: Summary statistics\")"
   ]
  }
 ],
 "metadata": {
  "jupytext": {
   "cell_metadata_filter": "-all",
   "main_language": "python",
   "notebook_metadata_filter": "-all"
  }
 },
 "nbformat": 4,
 "nbformat_minor": 5
}
