{
 "cells": [
  {
   "cell_type": "markdown",
   "id": "38d06c15",
   "metadata": {},
   "source": [
    "# Squidpy analysis of Vizgen data"
   ]
  },
  {
   "cell_type": "markdown",
   "id": "e5be83c2",
   "metadata": {},
   "source": [
    "## 1. Imports"
   ]
  },
  {
   "cell_type": "code",
   "execution_count": null,
   "id": "e0f3967b",
   "metadata": {},
   "outputs": [],
   "source": [
    "import numpy as np\n",
    "import pandas as pd\n",
    "from pathlib import Path\n",
    "import shutil\n",
    "import os\n",
    "from matplotlib import pyplot as plt\n",
    "import seaborn as sns\n",
    "\n",
    "import scanpy as sc\n",
    "import squidpy as sq\n",
    "import geopandas as gpd"
   ]
  },
  {
   "cell_type": "markdown",
   "id": "14fc2db9",
   "metadata": {},
   "source": [
    "## 2. Setup"
   ]
  },
  {
   "cell_type": "code",
   "execution_count": null,
   "id": "3791627d",
   "metadata": {},
   "outputs": [],
   "source": [
    "os.chdir(\"/beegfs/scratch/ric.sessa/kubacki.michal/SRF_Linda/SRF_Spatial_segmentation\")"
   ]
  },
  {
   "cell_type": "markdown",
   "id": "400dd35f",
   "metadata": {},
   "source": [
    "## 3. Load Data"
   ]
  },
  {
   "cell_type": "code",
   "execution_count": null,
   "id": "a750867f",
   "metadata": {},
   "outputs": [],
   "source": [
    "data_dir = \"./DATA/p30-E165/R1\"\n",
    "# Create a directory to save the results\n",
    "results_dir = os.path.join(data_dir, \"analysis_results\")\n",
    "os.makedirs(results_dir, exist_ok=True)"
   ]
  },
  {
   "cell_type": "code",
   "execution_count": null,
   "id": "6031ea59",
   "metadata": {},
   "outputs": [],
   "source": [
    "adata = sq.read.vizgen(\n",
    "    path=data_dir,\n",
    "    counts_file=\"cell_by_gene.csv\",\n",
    "    meta_file=\"cell_metadata.csv\",\n",
    ")\n",
    "print(\"Data loaded:\")\n",
    "print(adata)"
   ]
  },
  {
   "cell_type": "markdown",
   "id": "faf41d9b",
   "metadata": {},
   "source": [
    "### Get Library ID"
   ]
  },
  {
   "cell_type": "code",
   "execution_count": null,
   "id": "2bbbfb24",
   "metadata": {},
   "outputs": [],
   "source": [
    "# Get the library id from the anndata object\n",
    "try:\n",
    "    library_id = list(adata.uns['spatial'].keys())[0]\n",
    "    print(f\"Using library_id: {library_id}\")\n",
    "except (KeyError, IndexError):\n",
    "    print(\"Could not automatically determine library_id. Spatial plots may fail.\")\n",
    "    library_id = None"
   ]
  },
  {
   "cell_type": "markdown",
   "id": "ff0ce31f",
   "metadata": {},
   "source": [
    "### Load Cell Boundaries"
   ]
  },
  {
   "cell_type": "code",
   "execution_count": null,
   "id": "9a38e46a",
   "metadata": {},
   "outputs": [],
   "source": [
    "# Load the cell boundaries and add them to the anndata object\n",
    "try:\n",
    "    segmentation_path = os.path.join(data_dir, \"cell_boundaries.parquet\")\n",
    "    boundaries = gpd.read_parquet(segmentation_path)\n",
    "    adata.uns['spatial'][library_id]['segmentations'] = boundaries\n",
    "    print(\"Successfully loaded cell boundaries.\")\n",
    "except Exception as e:\n",
    "    print(f\"Could not load cell boundaries: {e}\")"
   ]
  },
  {
   "cell_type": "markdown",
   "id": "84e40d1f",
   "metadata": {},
   "source": [
    "## 4. Pre-processing and QC\n",
    "\n",
    "We perform standard pre-processing and quality control steps."
   ]
  },
  {
   "cell_type": "code",
   "execution_count": null,
   "id": "7940578b",
   "metadata": {},
   "outputs": [],
   "source": [
    "adata.var_names_make_unique()\n",
    "sc.pp.calculate_qc_metrics(adata, percent_top=(50, 100, 200, 300), inplace=True)\n",
    "\n",
    "fig, axs = plt.subplots(1, 4, figsize=(15, 4))\n",
    "sns.histplot(adata.obs[\"total_counts\"], kde=False, ax=axs[0])\n",
    "axs[0].set_title(\"Total transcripts per cell\")\n",
    "sns.histplot(adata.obs[\"n_genes_by_counts\"], kde=False, ax=axs[1])\n",
    "axs[1].set_title(\"Unique transcripts per cell\")\n",
    "sns.histplot(adata.obs.groupby(\"fov\").sum()[\"total_counts\"], kde=False, ax=axs[2])\n",
    "axs[2].set_title(\"Transcripts per FOV\")\n",
    "sns.histplot(adata.obs[\"volume\"], kde=False, ax=axs[3])\n",
    "axs[3].set_title(\"Volume of segmented cells\")\n",
    "fig.tight_layout()\n",
    "plt.savefig(os.path.join(results_dir, \"qc_metrics_distribution.png\"))\n",
    "print(\"Saved QC metrics distribution plot.\")"
   ]
  },
  {
   "cell_type": "markdown",
   "id": "b48928f0",
   "metadata": {},
   "source": [
    "### Filtering"
   ]
  },
  {
   "cell_type": "code",
   "execution_count": null,
   "id": "047b5bd5",
   "metadata": {},
   "outputs": [],
   "source": [
    "# Filter cells with low expression and genes that are expressed in too few cells.\n",
    "print(f\"Number of cells before filtering: {adata.n_obs}\")\n",
    "sc.pp.filter_cells(adata, min_counts=50)\n",
    "print(f\"Number of cells after filtering by counts: {adata.n_obs}\")\n",
    "\n",
    "print(f\"Number of genes before filtering: {adata.n_vars}\")\n",
    "sc.pp.filter_genes(adata, min_cells=10)\n",
    "print(f\"Number of genes after filtering by cells: {adata.n_vars}\")"
   ]
  },
  {
   "cell_type": "markdown",
   "id": "12be170f",
   "metadata": {},
   "source": [
    "### Normalization and Scaling"
   ]
  },
  {
   "cell_type": "code",
   "execution_count": null,
   "id": "08cc174e",
   "metadata": {},
   "outputs": [],
   "source": [
    "sc.pp.normalize_total(adata)\n",
    "sc.pp.log1p(adata)\n",
    "sc.pp.scale(adata, max_value=10)\n",
    "print(\"Normalization and scaling complete.\")"
   ]
  },
  {
   "cell_type": "markdown",
   "id": "91b37a6d",
   "metadata": {},
   "source": [
    "## 5. Dimensionality Reduction and Clustering"
   ]
  },
  {
   "cell_type": "code",
   "execution_count": null,
   "id": "8616ef34",
   "metadata": {},
   "outputs": [],
   "source": [
    "sc.tl.pca(adata, svd_solver=\"arpack\")\n",
    "sc.pp.neighbors(adata, n_neighbors=10, n_pcs=20)\n",
    "sc.tl.umap(adata)\n",
    "sc.tl.leiden(adata, resolution=1.0)\n",
    "print(\"Dimensionality reduction and clustering complete.\")"
   ]
  },
  {
   "cell_type": "markdown",
   "id": "764dfe98",
   "metadata": {},
   "source": [
    "## 6. Visualization"
   ]
  },
  {
   "cell_type": "markdown",
   "id": "faba8bd2",
   "metadata": {},
   "source": [
    "### UMAP"
   ]
  },
  {
   "cell_type": "code",
   "execution_count": null,
   "id": "8acf61a5",
   "metadata": {},
   "outputs": [],
   "source": [
    "sc.pl.umap(adata, color=[\"leiden\"], size=10, show=False, save=\"_leiden.png\")\n",
    "# Move the file to the results directory\n",
    "Path(\"figures/umap_leiden.png\").rename(f\"{results_dir}/umap_leiden.png\")\n",
    "shutil.rmtree(\"figures\")\n",
    "print(\"Saved UMAP plot.\")"
   ]
  },
  {
   "cell_type": "markdown",
   "id": "19ddf592",
   "metadata": {},
   "source": [
    "### Spatial Scatter"
   ]
  },
  {
   "cell_type": "code",
   "execution_count": null,
   "id": "989cb362",
   "metadata": {},
   "outputs": [],
   "source": [
    "sq.pl.spatial_scatter(\n",
    "    adata,\n",
    "    library_id=library_id,\n",
    "    color=\"leiden\",\n",
    "    img=False,\n",
    "    figsize=(15, 15),\n",
    "    size=10,\n",
    "    save=\"spatial_leiden.png\"\n",
    ")\n",
    "# Move the file to the results directory\n",
    "if os.path.exists(\"figures/spatial_leiden.png\"):\n",
    "    Path(\"figures/spatial_leiden.png\").rename(f\"{results_dir}/spatial_leiden.png\")\n",
    "    shutil.rmtree(\"figures\")\n",
    "    print(\"Saved spatial scatter plot.\")\n",
    "else:\n",
    "    print(\"Could not save spatial scatter plot.\")"
   ]
  },
  {
   "cell_type": "markdown",
   "id": "81e8525c",
   "metadata": {},
   "source": [
    "## 7. Spatial Analysis\n",
    "Spatial organization of the clustered cells."
   ]
  },
  {
   "cell_type": "markdown",
   "id": "7613fd2e",
   "metadata": {},
   "source": [
    "### Neighborhood Enrichment\n",
    "Clusters that are spatially co-enriched."
   ]
  },
  {
   "cell_type": "code",
   "execution_count": null,
   "id": "6cbcc8e5",
   "metadata": {},
   "outputs": [],
   "source": [
    "sq.gr.spatial_neighbors(adata, coord_type=\"generic\", spatial_key=\"spatial\")\n",
    "sq.gr.nhood_enrichment(adata, cluster_key=\"leiden\")\n",
    "sq.pl.nhood_enrichment(\n",
    "    adata,\n",
    "    cluster_key=\"leiden\",\n",
    "    method=\"average\",\n",
    "    cmap=\"inferno\",\n",
    "    vmin=-50,\n",
    "    vmax=100,\n",
    "    figsize=(7, 7),\n",
    "    save=\"_enrichment.png\",\n",
    ")\n",
    "Path(\"figures/_enrichment.png\").rename(f\"{results_dir}/neighborhood_enrichment.png\")\n",
    "shutil.rmtree(\"figures\")\n",
    "print(\"Saved neighborhood enrichment plot.\")"
   ]
  },
  {
   "cell_type": "markdown",
   "id": "26addd4a",
   "metadata": {},
   "source": [
    "### Spatial Autocorrelation (Moran's I)\n",
    "Identify genes that show a non-random spatial distribution."
   ]
  },
  {
   "cell_type": "code",
   "execution_count": null,
   "id": "b47e8f1a",
   "metadata": {},
   "outputs": [],
   "source": [
    "sq.gr.spatial_autocorr(adata, mode=\"moran\")\n",
    "print(\"Top 10 spatially autocorrelated genes:\")\n",
    "print(adata.uns[\"moranI\"].head(10))"
   ]
  },
  {
   "cell_type": "markdown",
   "id": "5f46109e",
   "metadata": {},
   "source": [
    "### Visualize top spatially autocorrelated genes"
   ]
  },
  {
   "cell_type": "code",
   "execution_count": null,
   "id": "7d6344ff",
   "metadata": {},
   "outputs": [],
   "source": [
    "top_autocorr = adata.uns[\"moranI\"][\"I\"].sort_values(ascending=False).head(4).index.tolist()\n",
    "sq.pl.spatial_scatter(\n",
    "    adata,\n",
    "    library_id=library_id,\n",
    "    color=top_autocorr,\n",
    "    size=5,\n",
    "    cmap=\"Reds\",\n",
    "    img=False,\n",
    "    figsize=(10, 10),\n",
    "    save=\"spatial_top_autocorr.png\"\n",
    ")\n",
    "Path(\"./figures/spatial_top_autocorr.png\").rename(f\"{results_dir}/spatial_top_autocorr.png\")\n",
    "os.rmdir(\"figures\")\n",
    "print(\"Saved top spatially autocorrelated genes plot.\")\n",
    "\n",
    "print(\"\\nAnalysis complete. Results are in the 'analysis_results' directory.\")"
   ]
  },
  {
   "cell_type": "code",
   "execution_count": null,
   "id": "96616a37",
   "metadata": {},
   "outputs": [],
   "source": [
    "# Save the AnnData object, but first remove GeoDataFrame from spatial metadata\n",
    "# as it cannot be serialized to HDF5 format\n",
    "print(\"Preparing to save AnnData object...\")\n",
    "\n",
    "# Store the boundaries separately if they exist\n",
    "boundaries_to_save = None\n",
    "if library_id and 'segmentations' in adata.uns['spatial'][library_id]:\n",
    "    boundaries_to_save = adata.uns['spatial'][library_id]['segmentations']\n",
    "    # Remove the GeoDataFrame from spatial metadata before saving\n",
    "    del adata.uns['spatial'][library_id]['segmentations']\n",
    "    print(\"Removed GeoDataFrame from spatial metadata for HDF5 compatibility.\")\n",
    "\n",
    "# Save the AnnData object\n",
    "adata.write(os.path.join(results_dir, \"squidpy_adata_1.h5ad\"))\n",
    "print(\"Successfully saved AnnData object.\")\n",
    "\n",
    "# Save the boundaries separately as parquet file\n",
    "if boundaries_to_save is not None:\n",
    "    boundaries_path = os.path.join(results_dir, \"cell_boundaries.parquet\")\n",
    "    boundaries_to_save.to_parquet(boundaries_path)\n",
    "    print(f\"Saved cell boundaries separately to: {boundaries_path}\")\n",
    "    \n",
    "    # Restore the boundaries to the AnnData object for continued use in this session\n",
    "    adata.uns['spatial'][library_id]['segmentations'] = boundaries_to_save\n",
    "    print(\"Restored boundaries to AnnData object for current session.\")"
   ]
  }
 ],
 "metadata": {
  "jupytext": {
   "cell_metadata_filter": "-all",
   "main_language": "python",
   "notebook_metadata_filter": "-all"
  }
 },
 "nbformat": 4,
 "nbformat_minor": 5
}
